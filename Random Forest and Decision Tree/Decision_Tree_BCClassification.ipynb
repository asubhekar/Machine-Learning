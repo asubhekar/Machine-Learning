{
 "cells": [
  {
   "cell_type": "markdown",
   "id": "88eee9ee",
   "metadata": {},
   "source": [
    "# Assignment 5: CART methodology Implementation\n",
    "   ## Name: Atharv Subhekar\n",
    "   ### CWID: 20015840"
   ]
  },
  {
   "cell_type": "code",
   "execution_count": 48,
   "id": "3fb50580",
   "metadata": {},
   "outputs": [],
   "source": [
    "#import preprocessing libraries\n",
    "import pandas as pd \n",
    "import numpy as np\n",
    "import matplotlib.pyplot as plt\n",
    "\n",
    "#algorithm libraries\n",
    "from sklearn.model_selection import train_test_split\n",
    "from sklearn.tree import DecisionTreeClassifier\n",
    "from sklearn import tree\n",
    "\n",
    "#Metrics libraries\n",
    "from sklearn.metrics import accuracy_score"
   ]
  },
  {
   "cell_type": "markdown",
   "id": "344c54a3",
   "metadata": {},
   "source": [
    "### Data Processing"
   ]
  },
  {
   "cell_type": "code",
   "execution_count": 57,
   "id": "f859be5c",
   "metadata": {},
   "outputs": [
    {
     "data": {
      "text/html": [
       "<div>\n",
       "<style scoped>\n",
       "    .dataframe tbody tr th:only-of-type {\n",
       "        vertical-align: middle;\n",
       "    }\n",
       "\n",
       "    .dataframe tbody tr th {\n",
       "        vertical-align: top;\n",
       "    }\n",
       "\n",
       "    .dataframe thead th {\n",
       "        text-align: right;\n",
       "    }\n",
       "</style>\n",
       "<table border=\"1\" class=\"dataframe\">\n",
       "  <thead>\n",
       "    <tr style=\"text-align: right;\">\n",
       "      <th></th>\n",
       "      <th>Sample</th>\n",
       "      <th>F1</th>\n",
       "      <th>F2</th>\n",
       "      <th>F3</th>\n",
       "      <th>F4</th>\n",
       "      <th>F5</th>\n",
       "      <th>F6</th>\n",
       "      <th>F7</th>\n",
       "      <th>F8</th>\n",
       "      <th>F9</th>\n",
       "      <th>Class</th>\n",
       "    </tr>\n",
       "  </thead>\n",
       "  <tbody>\n",
       "    <tr>\n",
       "      <th>0</th>\n",
       "      <td>1000025</td>\n",
       "      <td>5</td>\n",
       "      <td>1</td>\n",
       "      <td>1</td>\n",
       "      <td>1</td>\n",
       "      <td>2</td>\n",
       "      <td>1</td>\n",
       "      <td>3</td>\n",
       "      <td>1</td>\n",
       "      <td>1</td>\n",
       "      <td>2</td>\n",
       "    </tr>\n",
       "    <tr>\n",
       "      <th>1</th>\n",
       "      <td>1002945</td>\n",
       "      <td>5</td>\n",
       "      <td>4</td>\n",
       "      <td>4</td>\n",
       "      <td>5</td>\n",
       "      <td>7</td>\n",
       "      <td>10</td>\n",
       "      <td>3</td>\n",
       "      <td>2</td>\n",
       "      <td>1</td>\n",
       "      <td>2</td>\n",
       "    </tr>\n",
       "    <tr>\n",
       "      <th>2</th>\n",
       "      <td>1015425</td>\n",
       "      <td>3</td>\n",
       "      <td>1</td>\n",
       "      <td>1</td>\n",
       "      <td>1</td>\n",
       "      <td>2</td>\n",
       "      <td>2</td>\n",
       "      <td>3</td>\n",
       "      <td>1</td>\n",
       "      <td>1</td>\n",
       "      <td>2</td>\n",
       "    </tr>\n",
       "    <tr>\n",
       "      <th>3</th>\n",
       "      <td>1016277</td>\n",
       "      <td>6</td>\n",
       "      <td>8</td>\n",
       "      <td>8</td>\n",
       "      <td>1</td>\n",
       "      <td>3</td>\n",
       "      <td>4</td>\n",
       "      <td>3</td>\n",
       "      <td>7</td>\n",
       "      <td>1</td>\n",
       "      <td>2</td>\n",
       "    </tr>\n",
       "    <tr>\n",
       "      <th>4</th>\n",
       "      <td>1017023</td>\n",
       "      <td>4</td>\n",
       "      <td>1</td>\n",
       "      <td>1</td>\n",
       "      <td>3</td>\n",
       "      <td>2</td>\n",
       "      <td>1</td>\n",
       "      <td>3</td>\n",
       "      <td>1</td>\n",
       "      <td>1</td>\n",
       "      <td>2</td>\n",
       "    </tr>\n",
       "    <tr>\n",
       "      <th>...</th>\n",
       "      <td>...</td>\n",
       "      <td>...</td>\n",
       "      <td>...</td>\n",
       "      <td>...</td>\n",
       "      <td>...</td>\n",
       "      <td>...</td>\n",
       "      <td>...</td>\n",
       "      <td>...</td>\n",
       "      <td>...</td>\n",
       "      <td>...</td>\n",
       "      <td>...</td>\n",
       "    </tr>\n",
       "    <tr>\n",
       "      <th>694</th>\n",
       "      <td>776715</td>\n",
       "      <td>3</td>\n",
       "      <td>1</td>\n",
       "      <td>1</td>\n",
       "      <td>1</td>\n",
       "      <td>3</td>\n",
       "      <td>2</td>\n",
       "      <td>1</td>\n",
       "      <td>1</td>\n",
       "      <td>1</td>\n",
       "      <td>2</td>\n",
       "    </tr>\n",
       "    <tr>\n",
       "      <th>695</th>\n",
       "      <td>841769</td>\n",
       "      <td>2</td>\n",
       "      <td>1</td>\n",
       "      <td>1</td>\n",
       "      <td>1</td>\n",
       "      <td>2</td>\n",
       "      <td>1</td>\n",
       "      <td>1</td>\n",
       "      <td>1</td>\n",
       "      <td>1</td>\n",
       "      <td>2</td>\n",
       "    </tr>\n",
       "    <tr>\n",
       "      <th>696</th>\n",
       "      <td>888820</td>\n",
       "      <td>5</td>\n",
       "      <td>10</td>\n",
       "      <td>10</td>\n",
       "      <td>3</td>\n",
       "      <td>7</td>\n",
       "      <td>3</td>\n",
       "      <td>8</td>\n",
       "      <td>10</td>\n",
       "      <td>2</td>\n",
       "      <td>4</td>\n",
       "    </tr>\n",
       "    <tr>\n",
       "      <th>697</th>\n",
       "      <td>897471</td>\n",
       "      <td>4</td>\n",
       "      <td>8</td>\n",
       "      <td>6</td>\n",
       "      <td>4</td>\n",
       "      <td>3</td>\n",
       "      <td>4</td>\n",
       "      <td>10</td>\n",
       "      <td>6</td>\n",
       "      <td>1</td>\n",
       "      <td>4</td>\n",
       "    </tr>\n",
       "    <tr>\n",
       "      <th>698</th>\n",
       "      <td>897471</td>\n",
       "      <td>4</td>\n",
       "      <td>8</td>\n",
       "      <td>8</td>\n",
       "      <td>5</td>\n",
       "      <td>4</td>\n",
       "      <td>5</td>\n",
       "      <td>10</td>\n",
       "      <td>4</td>\n",
       "      <td>1</td>\n",
       "      <td>4</td>\n",
       "    </tr>\n",
       "  </tbody>\n",
       "</table>\n",
       "<p>699 rows × 11 columns</p>\n",
       "</div>"
      ],
      "text/plain": [
       "      Sample  F1  F2  F3  F4  F5  F6  F7  F8  F9  Class\n",
       "0    1000025   5   1   1   1   2   1   3   1   1      2\n",
       "1    1002945   5   4   4   5   7  10   3   2   1      2\n",
       "2    1015425   3   1   1   1   2   2   3   1   1      2\n",
       "3    1016277   6   8   8   1   3   4   3   7   1      2\n",
       "4    1017023   4   1   1   3   2   1   3   1   1      2\n",
       "..       ...  ..  ..  ..  ..  ..  ..  ..  ..  ..    ...\n",
       "694   776715   3   1   1   1   3   2   1   1   1      2\n",
       "695   841769   2   1   1   1   2   1   1   1   1      2\n",
       "696   888820   5  10  10   3   7   3   8  10   2      4\n",
       "697   897471   4   8   6   4   3   4  10   6   1      4\n",
       "698   897471   4   8   8   5   4   5  10   4   1      4\n",
       "\n",
       "[699 rows x 11 columns]"
      ]
     },
     "execution_count": 57,
     "metadata": {},
     "output_type": "execute_result"
    }
   ],
   "source": [
    "# loading the dataset in pandas\n",
    "df = pd.read_csv(\"breast-cancer-wisconsin.csv\")\n",
    "df"
   ]
  },
  {
   "cell_type": "code",
   "execution_count": 58,
   "id": "d26b656f",
   "metadata": {},
   "outputs": [
    {
     "data": {
      "text/plain": [
       "0      2\n",
       "1      2\n",
       "2      2\n",
       "3      2\n",
       "4      2\n",
       "      ..\n",
       "694    2\n",
       "695    2\n",
       "696    4\n",
       "697    4\n",
       "698    4\n",
       "Name: Class, Length: 699, dtype: int64"
      ]
     },
     "execution_count": 58,
     "metadata": {},
     "output_type": "execute_result"
    }
   ],
   "source": [
    "# storing the target labels\n",
    "target = df.iloc[:,-1]\n",
    "target"
   ]
  },
  {
   "cell_type": "code",
   "execution_count": 59,
   "id": "efe1901d",
   "metadata": {},
   "outputs": [
    {
     "data": {
      "text/plain": [
       "(699, 9)"
      ]
     },
     "execution_count": 59,
     "metadata": {},
     "output_type": "execute_result"
    }
   ],
   "source": [
    "#Dropping the unnecessary columns \n",
    "df = df.drop(columns = ['Sample','Class'])\n",
    "df.shape"
   ]
  },
  {
   "cell_type": "code",
   "execution_count": 60,
   "id": "3b2b171a",
   "metadata": {},
   "outputs": [
    {
     "data": {
      "text/plain": [
       "0"
      ]
     },
     "execution_count": 60,
     "metadata": {},
     "output_type": "execute_result"
    }
   ],
   "source": [
    "# Converting the missing values denoted by '?' to NaN\n",
    "df = df.replace({'?': np.NaN})\n",
    "# Replacing NaN values with the mean values.\n",
    "df[\"F6\"] = pd.to_numeric(df[\"F6\"])\n",
    "df['F6'].fillna(df['F6'].mean(), inplace=True)\n",
    "df['F6'].isnull().sum()"
   ]
  },
  {
   "cell_type": "code",
   "execution_count": 61,
   "id": "377b690b",
   "metadata": {},
   "outputs": [],
   "source": [
    "#Splitting the data into training set and testing set\n",
    "X_train, X_test, y_train, y_test = train_test_split(df, target, test_size = 0.3)"
   ]
  },
  {
   "cell_type": "markdown",
   "id": "d3b203b8",
   "metadata": {},
   "source": [
    "### Decision Tree Classifier"
   ]
  },
  {
   "cell_type": "code",
   "execution_count": 62,
   "id": "a750de49",
   "metadata": {},
   "outputs": [],
   "source": [
    "def decision_tree():\n",
    "    #Initializing the model \n",
    "    decision_tree = DecisionTreeClassifier()\n",
    "    #Fitting the model on training data\n",
    "    decision_tree.fit(X_train,y_train)\n",
    "    #Predicting the labels values using the test data\n",
    "    y_pred = decision_tree.predict(X_test)\n",
    "    #Evaluating the model\n",
    "    dtree_accuracy = accuracy_score(y_pred, y_test)\n",
    "    \n",
    "    plt.plot(decision_tree.feature_importances_, 'o')\n",
    "    plt.xticks(range(df.shape[1]), df.columns, rotation=90)\n",
    "    plt.ylim(0, 1)\n",
    "    return dtree_accuracy"
   ]
  },
  {
   "cell_type": "markdown",
   "id": "ac26c8e6",
   "metadata": {},
   "source": [
    "### Evaluating performance and plotting feature importance for data visualization."
   ]
  },
  {
   "cell_type": "code",
   "execution_count": 63,
   "id": "6ba5fe4b",
   "metadata": {},
   "outputs": [
    {
     "name": "stdout",
     "output_type": "stream",
     "text": [
      " Decision Tree accuracy without knowing the important features =  0.9523809523809523\n",
      "\n",
      " Feature importance = \n"
     ]
    },
    {
     "data": {
      "image/png": "[encoded data removed]",
      "text/plain": [
       "<Figure size 640x480 with 1 Axes>"
      ]
     },
     "metadata": {},
     "output_type": "display_data"
    }
   ],
   "source": [
    "dtree_accuracy = decision_tree()\n",
    "print(\" Decision Tree accuracy without knowing the important features = \", dtree_accuracy)\n",
    "print(\"\\n Feature importance = \")"
   ]
  },
  {
   "cell_type": "markdown",
   "id": "0c6c42e0",
   "metadata": {},
   "source": [
    "### Retraining the data with the important features"
   ]
  },
  {
   "cell_type": "code",
   "execution_count": 78,
   "id": "5583fdea",
   "metadata": {},
   "outputs": [
    {
     "name": "stdout",
     "output_type": "stream",
     "text": [
      "CART accuracy after knowing the important features =  0.9571428571428572\n"
     ]
    }
   ],
   "source": [
    "cart = DecisionTreeClassifier(max_depth = 3)\n",
    "cart.fit(X_train, y_train)\n",
    "y_pred_cart = cart.predict(X_test)\n",
    "cart_accuracy = accuracy_score(y_pred_cart, y_test)\n",
    "print(\"CART accuracy after knowing the important features = \", cart_accuracy)\n"
   ]
  },
  {
   "cell_type": "markdown",
   "id": "7cf015c6",
   "metadata": {},
   "source": [
    "### Building the Tree Diagram\n"
   ]
  },
  {
   "cell_type": "code",
   "execution_count": 79,
   "id": "00fcebda",
   "metadata": {},
   "outputs": [
    {
     "data": {
      "text/plain": [
       "[Text(0.5, 0.875, 'X[1] <= 2.5\\ngini = 0.457\\nsamples = 489\\nvalue = [316, 173]'),\n",
       " Text(0.25, 0.625, 'X[7] <= 3.5\\ngini = 0.065\\nsamples = 296\\nvalue = [286, 10]'),\n",
       " Text(0.125, 0.375, 'X[4] <= 5.5\\ngini = 0.021\\nsamples = 287\\nvalue = [284, 3]'),\n",
       " Text(0.0625, 0.125, 'gini = 0.007\\nsamples = 285\\nvalue = [284, 1]'),\n",
       " Text(0.1875, 0.125, 'gini = 0.0\\nsamples = 2\\nvalue = [0, 2]'),\n",
       " Text(0.375, 0.375, 'X[5] <= 3.0\\ngini = 0.346\\nsamples = 9\\nvalue = [2, 7]'),\n",
       " Text(0.3125, 0.125, 'gini = 0.444\\nsamples = 3\\nvalue = [2, 1]'),\n",
       " Text(0.4375, 0.125, 'gini = 0.0\\nsamples = 6\\nvalue = [0, 6]'),\n",
       " Text(0.75, 0.625, 'X[5] <= 3.772\\ngini = 0.263\\nsamples = 193\\nvalue = [30, 163]'),\n",
       " Text(0.625, 0.375, 'X[1] <= 4.5\\ngini = 0.49\\nsamples = 56\\nvalue = [24, 32]'),\n",
       " Text(0.5625, 0.125, 'gini = 0.391\\nsamples = 30\\nvalue = [22, 8]'),\n",
       " Text(0.6875, 0.125, 'gini = 0.142\\nsamples = 26\\nvalue = [2, 24]'),\n",
       " Text(0.875, 0.375, 'X[5] <= 8.5\\ngini = 0.084\\nsamples = 137\\nvalue = [6, 131]'),\n",
       " Text(0.8125, 0.125, 'gini = 0.219\\nsamples = 48\\nvalue = [6, 42]'),\n",
       " Text(0.9375, 0.125, 'gini = 0.0\\nsamples = 89\\nvalue = [0, 89]')]"
      ]
     },
     "execution_count": 79,
     "metadata": {},
     "output_type": "execute_result"
    },
    {
     "data": {
      "image/png": "[encoded data removed]",
      "text/plain": [
       "<Figure size 640x480 with 1 Axes>"
      ]
     },
     "metadata": {},
     "output_type": "display_data"
    }
   ],
   "source": [
    "tree.plot_tree(cart)"
   ]
  },
  {
   "cell_type": "code",
   "execution_count": null,
   "id": "3577e706",
   "metadata": {},
   "outputs": [],
   "source": []
  }
 ],
 "metadata": {
  "kernelspec": {
   "display_name": "Python 3 (ipykernel)",
   "language": "python",
   "name": "python3"
  },
  "language_info": {
   "codemirror_mode": {
    "name": "ipython",
    "version": 3
   },
   "file_extension": ".py",
   "mimetype": "text/x-python",
   "name": "python",
   "nbconvert_exporter": "python",
   "pygments_lexer": "ipython3",
   "version": "3.10.6"
  }
 },
 "nbformat": 4,
 "nbformat_minor": 5
}
