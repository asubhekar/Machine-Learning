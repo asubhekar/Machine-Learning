{
 "cells": [
  {
   "cell_type": "code",
   "execution_count": 23,
   "id": "c95abdb8",
   "metadata": {},
   "outputs": [],
   "source": [
    "#importing required libraries\n",
    "import time \n",
    "import numpy as np \n",
    "import struct \n",
    "import matplotlib.pyplot as plt\n",
    "from sklearn import preprocessing\n",
    "from scipy.spatial import distance_matrix\n",
    "from sklearn.neighbors import NearestNeighbors"
   ]
  },
  {
   "cell_type": "code",
   "execution_count": 24,
   "id": "02869bc5",
   "metadata": {
    "scrolled": true
   },
   "outputs": [
    {
     "name": "stdout",
     "output_type": "stream",
     "text": [
      "--- 0.02505779266357422 seconds ---\n"
     ]
    }
   ],
   "source": [
    "#Parsing MNIST data set from .gz files.\n",
    "start_time = time.time()\n",
    "with open('train-images.idx3-ubyte', 'rb') as file:\n",
    "    magic, size = struct.unpack(\">II\", file.read(8))\n",
    "    nrows, ncols = struct.unpack(\">II\", file.read(8))\n",
    "    train_data = np.fromfile(file, dtype=np.dtype(np.uint8).newbyteorder('>'))\n",
    "    train_data = train_data.reshape((size, nrows, ncols))\n",
    "    \n",
    "with open('train-labels.idx1-ubyte', 'rb') as file:\n",
    "    train_labels = np.frombuffer(file.read(), dtype = np.int8, offset = 8)\n",
    "\n",
    "with open('t10k-images.idx3-ubyte', 'rb') as file:\n",
    "    magic, size = struct.unpack(\">II\", file.read(8))\n",
    "    nrows, ncols = struct.unpack(\">II\", file.read(8))\n",
    "    test_data = np.fromfile(file, dtype=np.dtype(np.uint8).newbyteorder('>'))\n",
    "    test_data = test_data.reshape((size, nrows, ncols))\n",
    "\n",
    "with open('t10k-labels.idx1-ubyte', 'rb') as file:\n",
    "    test_labels = np.frombuffer(file.read(), dtype = np.int8, offset = 8)\n",
    "\n",
    "print(\"--- %s seconds ---\" % (time.time() - start_time))    "
   ]
  },
  {
   "cell_type": "code",
   "execution_count": 25,
   "id": "c4635384",
   "metadata": {},
   "outputs": [
    {
     "name": "stdout",
     "output_type": "stream",
     "text": [
      "Training Data Shape:  (60000, 28, 28)\n",
      "Training Labels Shape:  (60000,)\n",
      "\n",
      "Test Data Shape:  (10000, 28, 28)\n",
      "Test Labels Shape:  (10000,)\n",
      "--- 0.000942230224609375 seconds ---\n"
     ]
    }
   ],
   "source": [
    "# checking shape of data\n",
    "start_time = time.time()\n",
    "print(\"Training Data Shape: \",train_data.shape)\n",
    "print(\"Training Labels Shape: \", train_labels.shape)\n",
    "print(\"\\nTest Data Shape: \", test_data.shape)\n",
    "print(\"Test Labels Shape: \", test_labels.shape)\n",
    "print(\"--- %s seconds ---\" % (time.time() - start_time))  "
   ]
  },
  {
   "cell_type": "code",
   "execution_count": 26,
   "id": "382677bf",
   "metadata": {},
   "outputs": [
    {
     "name": "stdout",
     "output_type": "stream",
     "text": [
      "--- 0.15272903442382812 seconds ---\n"
     ]
    }
   ],
   "source": [
    "# preparing training data according to assignment requirement\n",
    "start_time = time.time()\n",
    "train_labels_568 = []\n",
    "train_images_568 = []\n",
    "train_labels_prep = list(train_labels)\n",
    "\n",
    "for i in range(len(train_labels_prep)):\n",
    "    if train_labels_prep[i] == 5 or train_labels_prep[i] == 6 or train_labels_prep[i] == 8:\n",
    "        train_labels_568.append(train_labels_prep[i])\n",
    "        train_images_568.append(train_data[i])\n",
    "        \n",
    "train_data = np.asarray(train_images_568)\n",
    "train_labels = np.asarray(train_labels_568)\n",
    "print(\"--- %s seconds ---\" % (time.time() - start_time))  "
   ]
  },
  {
   "cell_type": "code",
   "execution_count": 27,
   "id": "44c707d2",
   "metadata": {},
   "outputs": [
    {
     "name": "stdout",
     "output_type": "stream",
     "text": [
      "--- 0.04298114776611328 seconds ---\n"
     ]
    }
   ],
   "source": [
    "# preparing training data according to assignment requirement\n",
    "start_time = time.time()\n",
    "test_labels_568 = []\n",
    "test_images_568 = []\n",
    "test_labels_prep = list(test_labels)\n",
    "\n",
    "for i in range(len(test_labels_prep)):\n",
    "    if test_labels_prep[i] == 5 or test_labels_prep[i] == 6 or test_labels_prep[i] == 8:\n",
    "        test_labels_568.append(test_labels_prep[i])\n",
    "        test_images_568.append(test_data[i])\n",
    "\n",
    "test_data = np.asarray(test_images_568)\n",
    "test_labels = np.asarray(test_labels_568)\n",
    "print(\"--- %s seconds ---\" % (time.time() - start_time))  "
   ]
  },
  {
   "cell_type": "code",
   "execution_count": 28,
   "id": "7cab0d25",
   "metadata": {},
   "outputs": [
    {
     "name": "stdout",
     "output_type": "stream",
     "text": [
      "Training Data Shape:  (17190, 28, 28)\n",
      "Training Labels Shape:  (17190,)\n",
      "\n",
      "Test Data Shape:  (2824, 28, 28)\n",
      "Test Labels Shape:  (2824,)\n",
      "--- 0.0009348392486572266 seconds ---\n"
     ]
    }
   ],
   "source": [
    "# checking shape of data\n",
    "start_time = time.time()\n",
    "print(\"Training Data Shape: \",train_data.shape)\n",
    "print(\"Training Labels Shape: \", train_labels.shape)\n",
    "print(\"\\nTest Data Shape: \", test_data.shape)\n",
    "print(\"Test Labels Shape: \", test_labels.shape)\n",
    "print(\"--- %s seconds ---\" % (time.time() - start_time))  "
   ]
  },
  {
   "cell_type": "code",
   "execution_count": 29,
   "id": "089ab7ee",
   "metadata": {},
   "outputs": [
    {
     "data": {
      "image/png": "[encoded data removed]",
      "text/plain": [
       "<Figure size 750x400 with 10 Axes>"
      ]
     },
     "metadata": {},
     "output_type": "display_data"
    },
    {
     "name": "stdout",
     "output_type": "stream",
     "text": [
      "--- 0.3312520980834961 seconds ---\n"
     ]
    }
   ],
   "source": [
    "#Plotting MNIST dataset using Matplotlib (Training Set)\n",
    "start_time = time.time()\n",
    "num = 10\n",
    "images = train_data[:num]\n",
    "labels = train_labels[:num]\n",
    "num_rows = 2\n",
    "num_cols = 5\n",
    "\n",
    "fig, axes = plt.subplots(num_rows, num_cols, figsize=(1.5*num_cols,2*num_rows))\n",
    "for i in range(num):\n",
    "    ax = axes[i//num_cols, i%num_cols]\n",
    "    ax.imshow(images[i], cmap='gray')\n",
    "    ax.set_title('Label: {}'.format(labels[i]))\n",
    "plt.tight_layout()\n",
    "plt.show()\n",
    "print(\"--- %s seconds ---\" % (time.time() - start_time))  "
   ]
  },
  {
   "cell_type": "code",
   "execution_count": 30,
   "id": "da4f7c5f",
   "metadata": {},
   "outputs": [
    {
     "data": {
      "image/png": "[encoded data removed]",
      "text/plain": [
       "<Figure size 750x400 with 10 Axes>"
      ]
     },
     "metadata": {},
     "output_type": "display_data"
    },
    {
     "name": "stdout",
     "output_type": "stream",
     "text": [
      "--- 0.38465094566345215 seconds ---\n"
     ]
    }
   ],
   "source": [
    "#Plotting MNIST dataset using Matplotlib (Test Set)\n",
    "start_time = time.time()\n",
    "num = 10\n",
    "images = test_data[:num]\n",
    "labels = test_labels[:num]\n",
    "num_rows = 2\n",
    "num_cols = 5\n",
    "\n",
    "fig, axes = plt.subplots(num_rows, num_cols, figsize=(1.5*num_cols,2*num_rows))\n",
    "for i in range(num):\n",
    "    ax = axes[i//num_cols, i%num_cols]\n",
    "    ax.imshow(images[i], cmap='gray')\n",
    "    ax.set_title('Label: {}'.format(labels[i]))\n",
    "plt.tight_layout()\n",
    "plt.show()\n",
    "print(\"--- %s seconds ---\" % (time.time() - start_time))  "
   ]
  },
  {
   "cell_type": "code",
   "execution_count": 31,
   "id": "cb16f6ad",
   "metadata": {},
   "outputs": [
    {
     "name": "stdout",
     "output_type": "stream",
     "text": [
      "--- 0.0002942085266113281 seconds ---\n"
     ]
    }
   ],
   "source": [
    "#reshaping train and test data\n",
    "start_time = time.time()\n",
    "train_data = train_data.reshape(train_data.shape[0], 784)\n",
    "test_data = test_data.reshape(test_data.shape[0], 784)\n",
    "print(\"--- %s seconds ---\" % (time.time() - start_time))  "
   ]
  },
  {
   "cell_type": "code",
   "execution_count": 32,
   "id": "9f773d92",
   "metadata": {},
   "outputs": [
    {
     "name": "stdout",
     "output_type": "stream",
     "text": [
      "Training Data Shape:  (17190, 784)\n",
      "Training Labels Shape:  (17190,)\n",
      "\n",
      "Test Data Shape:  (2824, 784)\n",
      "Test Labels Shape:  (2824,)\n"
     ]
    }
   ],
   "source": [
    "# checking shape of data\n",
    "start_time = time.time()\n",
    "print(\"Training Data Shape: \",train_data.shape)\n",
    "print(\"Training Labels Shape: \", train_labels.shape)\n",
    "print(\"\\nTest Data Shape: \", test_data.shape)\n",
    "print(\"Test Labels Shape: \", test_labels.shape)"
   ]
  },
  {
   "cell_type": "code",
   "execution_count": 33,
   "id": "f40cb345",
   "metadata": {},
   "outputs": [
    {
     "name": "stdout",
     "output_type": "stream",
     "text": [
      "--- 0.0716547966003418 seconds ---\n"
     ]
    }
   ],
   "source": [
    "#normalizing X_train and X_test features\n",
    "start_time = time.time()\n",
    "train_data = preprocessing.normalize(train_data, norm = 'l2', axis = 0)\n",
    "test_data = preprocessing.normalize(test_data, norm = 'l2', axis = 0)\n",
    "print(\"--- %s seconds ---\" % (time.time() - start_time))  "
   ]
  },
  {
   "cell_type": "code",
   "execution_count": 34,
   "id": "0b09a932",
   "metadata": {},
   "outputs": [
    {
     "name": "stdout",
     "output_type": "stream",
     "text": [
      "--- 0.056871891021728516 seconds ---\n"
     ]
    }
   ],
   "source": [
    "#normalizing X_train and X_test columns\n",
    "start_time = time.time()\n",
    "train_data = preprocessing.normalize(train_data, norm = 'l2', axis = 1)\n",
    "test_data = preprocessing.normalize(test_data, norm = 'l2', axis = 1)\n",
    "print(\"--- %s seconds ---\" % (time.time() - start_time))  "
   ]
  },
  {
   "cell_type": "code",
   "execution_count": 35,
   "id": "14f6a8a1",
   "metadata": {},
   "outputs": [],
   "source": [
    "def dist(X_train, X_test, squared=False):\n",
    "    '''\n",
    "    calculates pairwise distance between X_train and X_test\n",
    "    '''\n",
    "    M = []\n",
    "    \n",
    "    for i in range(len(X_test)):\n",
    "        dist = [np.sqrt(np.sum((X_test[i]-x_t)**2)) for x_t in X_train]\n",
    "        M.append(dist)\n",
    "        \n",
    "    \n",
    "    M = np.asarray(M)\n",
    "\n",
    "    return M  "
   ]
  },
  {
   "cell_type": "code",
   "execution_count": 52,
   "id": "427a6309",
   "metadata": {},
   "outputs": [
    {
     "name": "stdout",
     "output_type": "stream",
     "text": [
      "(2824, 17190)\n",
      "--- 162.9061975479126 seconds ---\n"
     ]
    }
   ],
   "source": [
    "start_time = time.time()\n",
    "M = dist(train_data, test_data)\n",
    "print(M.shape)\n",
    "print(\"--- %s seconds ---\" % (time.time() - start_time))  "
   ]
  },
  {
   "cell_type": "code",
   "execution_count": 60,
   "id": "ad530765",
   "metadata": {},
   "outputs": [],
   "source": [
    "def retrieve(i, M, k):\n",
    "    '''\n",
    "    Retrieves indices of k nearest points to i\n",
    "    '''\n",
    "    test_query = M[i]\n",
    "    indices = sorted(range(len(test_query)), key = lambda sub: test_query[sub])[:k]\n",
    "        \n",
    "    return indices \n",
    "  "
   ]
  },
  {
   "cell_type": "code",
   "execution_count": 61,
   "id": "6e00263f",
   "metadata": {},
   "outputs": [],
   "source": [
    "def precision(y, y_train, I):\n",
    "    '''\n",
    "    Calculates precision by comparing y and y_train labels\n",
    "    '''\n",
    "    summation = 0\n",
    "    for index in I:\n",
    "        if y == y_train[index]:\n",
    "            summation += 1\n",
    "    \n",
    "    return summation / len(I)\n",
    "  "
   ]
  },
  {
   "cell_type": "code",
   "execution_count": null,
   "id": "c4b8ead6",
   "metadata": {},
   "outputs": [
    {
     "name": "stdout",
     "output_type": "stream",
     "text": [
      "Time required for k = 1: 13.224194049835205 --- %s seconds ---\n",
      "Time required for k = 2: 13.092274188995361 --- %s seconds ---\n",
      "Time required for k = 5: 13.140650033950806 --- %s seconds ---\n",
      "Time required for k = 10: 12.960615873336792 --- %s seconds ---\n"
     ]
    }
   ],
   "source": [
    "def main():\n",
    "    k = [1, 2, 5, 10, 20, 50, 100, 200, 500, 1000]\n",
    "    \n",
    "    average_precision = []\n",
    "    start_time_2 = time.time()\n",
    "    for n_neighbor in k:\n",
    "        start_time = time.time()\n",
    "        prec = []\n",
    "        for i in range(len(test_data)):\n",
    "            \n",
    "            indices = retrieve(i, M, n_neighbor)\n",
    "            \n",
    "            prec.append(precision(test_labels[i], train_labels, indices))\n",
    "        print(\"Time required for k = {}: {} --- %s seconds ---\".format(n_neighbor, time.time() - start_time))    \n",
    "        average_precision.append(np.mean(prec))\n",
    "    print(\"Total time required for retrieving = {}: {} --- %s seconds ---\".format(n_neighbor, time.time() - start_time_2))\n",
    "    plt.plot(k, average_precision)\n",
    "    plt.xlabel('k_neighbors')\n",
    "    plt.ylabel('precision')\n",
    "    plt.show()\n",
    "    \n",
    "main()\n"
   ]
  },
  {
   "cell_type": "code",
   "execution_count": null,
   "id": "f6593ddd",
   "metadata": {},
   "outputs": [],
   "source": []
  },
  {
   "cell_type": "code",
   "execution_count": null,
   "id": "d47e2441",
   "metadata": {},
   "outputs": [],
   "source": []
  }
 ],
 "metadata": {
  "kernelspec": {
   "display_name": "Python 3 (ipykernel)",
   "language": "python",
   "name": "python3"
  },
  "language_info": {
   "codemirror_mode": {
    "name": "ipython",
    "version": 3
   },
   "file_extension": ".py",
   "mimetype": "text/x-python",
   "name": "python",
   "nbconvert_exporter": "python",
   "pygments_lexer": "ipython3",
   "version": "3.10.6"
  }
 },
 "nbformat": 4,
 "nbformat_minor": 5
}
