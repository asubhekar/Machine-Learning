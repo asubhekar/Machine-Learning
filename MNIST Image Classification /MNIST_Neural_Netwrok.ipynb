{
  "nbformat": 4,
  "nbformat_minor": 0,
  "metadata": {
    "colab": {
      "provenance": []
    },
    "kernelspec": {
      "name": "python3",
      "display_name": "Python 3"
    },
    "language_info": {
      "name": "python"
    }
  },
  "cells": [
    {
      "cell_type": "markdown",
      "source": [
        "## Importing Libraries"
      ],
      "metadata": {
        "id": "6kKR9qNRJcIH"
      }
    },
    {
      "cell_type": "code",
      "execution_count": 1,
      "metadata": {
        "id": "BevtLA-fFACS"
      },
      "outputs": [],
      "source": [
        "import numpy as np\n",
        "import gzip\n",
        "import struct\n",
        "import matplotlib.pyplot as plt\n",
        "import tensorflow as tf\n",
        "import tensorflow_datasets as tfds\n",
        "from tensorflow import keras"
      ]
    },
    {
      "cell_type": "markdown",
      "source": [
        "## Step 1 Data Acquisition and Visualization"
      ],
      "metadata": {
        "id": "3qU_3pFcJd-E"
      }
    },
    {
      "cell_type": "code",
      "source": [
        "def read_idx(filename):\n",
        "    with gzip.open(filename, 'rb') as f:\n",
        "        zero, data_type, dims = struct.unpack('>HBB', f.read(4))\n",
        "        shape = tuple(struct.unpack('>I', f.read(4))[0] for _ in range(dims))\n",
        "        return np.frombuffer(f.read(), dtype=np.uint8).reshape(shape)"
      ],
      "metadata": {
        "id": "Qnq7oXNjJSbi"
      },
      "execution_count": 2,
      "outputs": []
    },
    {
      "cell_type": "code",
      "source": [
        "# Load MNIST dataset\n",
        "train_images = read_idx('train-images-idx3-ubyte.gz')\n",
        "train_labels = read_idx('train-labels-idx1-ubyte.gz')\n",
        "test_images = read_idx('t10k-images-idx3-ubyte.gz')\n",
        "test_labels = read_idx('t10k-labels-idx1-ubyte.gz')\n",
        "\n",
        "# Print shapes\n",
        "print(\"Training Images Shape:\", train_images.shape)\n",
        "print(\"Training Labels Shape:\", train_labels.shape)\n",
        "print(\"Testing Images Shape:\", test_images.shape)\n",
        "print(\"Testing Labels Shape:\", test_labels.shape)"
      ],
      "metadata": {
        "id": "XjTYN_g1JQf2",
        "colab": {
          "base_uri": "https://localhost:8080/"
        },
        "outputId": "828eaa1a-c134-4a91-9acd-e58ada9475ec"
      },
      "execution_count": 3,
      "outputs": [
        {
          "output_type": "stream",
          "name": "stdout",
          "text": [
            "Training Images Shape: (60000, 28, 28)\n",
            "Training Labels Shape: (60000,)\n",
            "Testing Images Shape: (10000, 28, 28)\n",
            "Testing Labels Shape: (10000,)\n"
          ]
        }
      ]
    },
    {
      "cell_type": "code",
      "source": [
        "# Visualize a random image\n",
        "index = np.random.randint(0, len(train_images))\n",
        "plt.imshow(train_images[index], cmap='gray')\n",
        "plt.title(f\"Label: {train_labels[index]}\")\n",
        "plt.show()"
      ],
      "metadata": {
        "colab": {
          "base_uri": "https://localhost:8080/",
          "height": 452
        },
        "id": "m9m3wp9s4McL",
        "outputId": "df183081-eb87-4264-e577-e6fa4341e4b8"
      },
      "execution_count": 4,
      "outputs": [
        {
          "output_type": "display_data",
          "data": {
            "text/plain": [
              "<Figure size 640x480 with 1 Axes>"
            ],
            "image/png": "[encoded data removed]"
          },
          "metadata": {}
        }
      ]
    },
    {
      "cell_type": "markdown",
      "source": [
        "## Step 2 Data Preprocessing"
      ],
      "metadata": {
        "id": "LZp-9uTgJi3o"
      }
    },
    {
      "cell_type": "code",
      "source": [
        "# Normalize pixel values\n",
        "train_images_normalized = train_images / 255.0\n",
        "test_images_normalized = test_images / 255.0\n",
        "\n",
        "# Convert labels to one-hot encoding\n",
        "def one_hot_encode(labels, num_classes):\n",
        "    return np.eye(num_classes)[labels]\n",
        "\n",
        "num_classes = 10\n",
        "train_labels_onehot = one_hot_encode(train_labels, num_classes)\n",
        "test_labels_onehot = one_hot_encode(test_labels, num_classes)"
      ],
      "metadata": {
        "id": "y9EYVipk4OGk"
      },
      "execution_count": 5,
      "outputs": []
    },
    {
      "cell_type": "code",
      "source": [
        "# Display processed data\n",
        "index = np.random.randint(0, len(train_images))\n",
        "\n",
        "# Original Image\n",
        "plt.subplot(1, 2, 1)\n",
        "plt.imshow(train_images[index], cmap='gray')\n",
        "plt.title(f\"Original\\nLabel: {train_labels[index]}\")"
      ],
      "metadata": {
        "colab": {
          "base_uri": "https://localhost:8080/",
          "height": 346
        },
        "id": "Unyjjp-34QOY",
        "outputId": "bb06aaba-71f7-4891-d1af-772b462857e6"
      },
      "execution_count": 6,
      "outputs": [
        {
          "output_type": "execute_result",
          "data": {
            "text/plain": [
              "Text(0.5, 1.0, 'Original\\nLabel: 1')"
            ]
          },
          "metadata": {},
          "execution_count": 6
        },
        {
          "output_type": "display_data",
          "data": {
            "text/plain": [
              "<Figure size 640x480 with 1 Axes>"
            ],
            "image/png": "[encoded data removed]"
          },
          "metadata": {}
        }
      ]
    },
    {
      "cell_type": "code",
      "source": [
        "# Normalized Image\n",
        "plt.subplot(1, 2, 2)\n",
        "plt.imshow(train_images_normalized[index], cmap='gray')\n",
        "plt.title(f\"Normalized\\nOne-hot Label: {train_labels_onehot[index]}\")\n",
        "\n",
        "plt.show()"
      ],
      "metadata": {
        "colab": {
          "base_uri": "https://localhost:8080/",
          "height": 329
        },
        "id": "hvbICZuN4RuH",
        "outputId": "c9232380-287d-4a63-9091-8ecc297f8a71"
      },
      "execution_count": 7,
      "outputs": [
        {
          "output_type": "display_data",
          "data": {
            "text/plain": [
              "<Figure size 640x480 with 1 Axes>"
            ],
            "image/png": "[encoded data removed]"
          },
          "metadata": {}
        }
      ]
    },
    {
      "cell_type": "markdown",
      "source": [
        "## Step 3 Network Initialization"
      ],
      "metadata": {
        "id": "gCjS0qCRJm-o"
      }
    },
    {
      "cell_type": "code",
      "source": [
        "# Network architecture\n",
        "input_size = 784\n",
        "H1_size = 128\n",
        "H2_size = 64\n",
        "output_size = 10\n",
        "\n",
        "# Seed for reproducibility\n",
        "np.random.seed(695)"
      ],
      "metadata": {
        "id": "LrMCdwD94To7"
      },
      "execution_count": 8,
      "outputs": []
    },
    {
      "cell_type": "code",
      "source": [
        "# Initialize parameters with random values\n",
        "W1 = np.random.randn(input_size, H1_size) * 0.01\n",
        "B1 = np.zeros((1, H1_size))\n",
        "\n",
        "W2 = np.random.randn(H1_size, H2_size) * 0.01\n",
        "B2 = np.zeros((1, H2_size))\n",
        "\n",
        "W3 = np.random.randn(H2_size, output_size) * 0.01\n",
        "B3 = np.zeros((1, output_size))"
      ],
      "metadata": {
        "id": "LJ54Ws6A4Vo3"
      },
      "execution_count": 9,
      "outputs": []
    },
    {
      "cell_type": "code",
      "source": [
        "def sigmoid(x):\n",
        "    return 1 / (1 + np.exp(-x))\n",
        "\n",
        "def softmax(zi):\n",
        "  output = []\n",
        "  for i in range(zi.shape[0]):\n",
        "    output.append(np.exp(zi[i]) / np.sum(np.exp(zi[i])))\n",
        "  return np.array(output)"
      ],
      "metadata": {
        "id": "8sn3Ph9u4Yvq"
      },
      "execution_count": 10,
      "outputs": []
    },
    {
      "cell_type": "markdown",
      "source": [
        "# Step 4: Feed Forward"
      ],
      "metadata": {
        "id": "odoURSRpJ-3T"
      }
    },
    {
      "cell_type": "code",
      "source": [
        "def feed_forward(x, w, b):\n",
        "  return sigmoid(np.dot(x, w) + b)"
      ],
      "metadata": {
        "id": "t3CauOy7KAtx"
      },
      "execution_count": 11,
      "outputs": []
    },
    {
      "cell_type": "code",
      "source": [
        "def forward_propagation(x, W1, B1, W2, B2, W3, B3):\n",
        "  H1_output = feed_forward(batch_x, W1, B1)\n",
        "  H2_output = feed_forward(H1_output, W2, B2)\n",
        "  softmax_output = softmax(np.dot(H2_output, W3) + B3)\n",
        "  ypred = np.eye(10)[np.argmax(softmax_output, axis = 1)]\n",
        "\n",
        "  return H1_output, H2_output, ypred"
      ],
      "metadata": {
        "id": "wweW_1rlKNFd"
      },
      "execution_count": 12,
      "outputs": []
    },
    {
      "cell_type": "markdown",
      "source": [
        "## Step 5 Backpropagation"
      ],
      "metadata": {
        "id": "sne9yyowLqiN"
      }
    },
    {
      "cell_type": "code",
      "source": [
        "def categorical_crossentropy(y_true, y_pred):\n",
        "    n_samples = y_true.shape[0]\n",
        "    y_pred_clipped = np.clip(y_pred, 1e-12, 1 - 1e-12)\n",
        "    return -np.sum(y_true * np.log(y_pred_clipped)) / n_samples"
      ],
      "metadata": {
        "id": "BR_3Ijc7L8Dz"
      },
      "execution_count": 13,
      "outputs": []
    },
    {
      "cell_type": "code",
      "source": [
        "def backpropagation(batch_y, ypred, H2_output, H1_output):\n",
        "  output_del = ypred - batch_y\n",
        "  W3_gradient = np.dot(H2_output.T, output_del)\n",
        "  B3_gradient = np.sum(output_del, axis = 0, keepdims = True)\n",
        "\n",
        "  h2_del = np.dot(output_del, W3.T) * H2_output * (1 - H2_output)\n",
        "  W2_gradient = np.dot(H1_output.T, h2_del)\n",
        "  B2_gradient = np.sum(h2_del, axis = 0, keepdims = True)\n",
        "\n",
        "  h1_del = np.dot(h2_del, W2.T) * H1_output * (1 - H1_output)\n",
        "  W1_gradient = np.dot(batch_x.T, h1_del)\n",
        "  B1_gradient = np.sum(h1_del, axis = 0, keepdims = True)\n",
        "\n",
        "  return W3_gradient, B3_gradient, W2_gradient, B2_gradient, W1_gradient, B1_gradient"
      ],
      "metadata": {
        "id": "GpNxwoZJKmKq"
      },
      "execution_count": 14,
      "outputs": []
    },
    {
      "cell_type": "markdown",
      "source": [
        "## Step 7 Model Training"
      ],
      "metadata": {
        "id": "PB9R4BFPLtzB"
      }
    },
    {
      "cell_type": "code",
      "source": [
        "batch_size = 128\n",
        "epochs = 100\n",
        "learning_rate = 0.01\n",
        "\n",
        "for epoch in range(epochs):\n",
        "    total_loss = 0\n",
        "    for i in range(0, len(train_images_normalized) - batch_size, batch_size):\n",
        "        batch_x = train_images_normalized[i:i + batch_size].reshape(batch_size, -1)\n",
        "        batch_y = train_labels_onehot[i:i + batch_size]\n",
        "\n",
        "        #H1_output = feed_forward(batch_x, W1, B1)\n",
        "        #H2_output = feed_forward(H1_output, W2, B2)\n",
        "        #softmax_output = softmax(np.dot(H2_output, W3) + B3)\n",
        "        #ypred = np.eye(10)[np.argmax(softmax_output, axis = 1)]\n",
        "        H1_output, H2_output, ypred = forward_propagation(batch_x, W1, B1, W2, B2, W3, B3)\n",
        "\n",
        "        loss = categorical_crossentropy(batch_y, ypred)\n",
        "\n",
        "        W3_gradient, B3_gradient, W2_gradient, B2_gradient, W1_gradient, B1_gradient = backpropagation(batch_y, ypred, H2_output, H1_output)\n",
        "\n",
        "        #output_del = ypred - batch_y\n",
        "        #W3_gradient = np.dot(H2_output.T, output_del)\n",
        "        #B3_gradient = np.sum(output_del, axis = 0, keepdims = True)\n",
        "\n",
        "        #h2_del = np.dot(output_del, W3.T) * H2_output * (1 - H2_output)\n",
        "        #W2_gradient = np.dot(H1_output.T, h2_del)\n",
        "        #B2_gradient = np.sum(h2_del, axis = 0, keepdims = True)\n",
        "\n",
        "        #h1_del = np.dot(h2_del, W2.T) * H1_output * (1 - H1_output)\n",
        "        #W1_gradient = np.dot(batch_x.T, h1_del)\n",
        "        #B1_gradient = np.sum(h1_del, axis = 0, keepdims = True)\n",
        "\n",
        "        W3 -= learning_rate * W3_gradient\n",
        "        B3 -= learning_rate * B3_gradient\n",
        "\n",
        "        W2 -= learning_rate * W2_gradient\n",
        "        B2 -= learning_rate * B2_gradient\n",
        "\n",
        "        W1 -= learning_rate * W1_gradient\n",
        "        B1 -= learning_rate * B1_gradient\n",
        "\n",
        "        total_loss += loss\n",
        "\n",
        "    average_loss = total_loss / (len(train_images_normalized) // batch_size)\n",
        "    print(f\"Epoch {epoch + 1}/{epochs}, Loss: {average_loss}\")"
      ],
      "metadata": {
        "colab": {
          "base_uri": "https://localhost:8080/"
        },
        "id": "cVqvqEby4qne",
        "outputId": "1f189901-15a2-4a60-f0d8-f5cb9c0f629e"
      },
      "execution_count": 15,
      "outputs": [
        {
          "output_type": "stream",
          "name": "stdout",
          "text": [
            "Epoch 1/100, Loss: 22.7098912366913\n",
            "Epoch 2/100, Loss: 21.221421265719414\n",
            "Epoch 3/100, Loss: 20.694206770268252\n",
            "Epoch 4/100, Loss: 20.221420367960782\n",
            "Epoch 5/100, Loss: 19.804907078903565\n",
            "Epoch 6/100, Loss: 17.644849789141723\n",
            "Epoch 7/100, Loss: 14.658223491638546\n",
            "Epoch 8/100, Loss: 12.369476049443943\n",
            "Epoch 9/100, Loss: 9.774455269559317\n",
            "Epoch 10/100, Loss: 7.799361245480742\n",
            "Epoch 11/100, Loss: 6.680817805875316\n",
            "Epoch 12/100, Loss: 6.19696128292847\n",
            "Epoch 13/100, Loss: 5.764765322965462\n",
            "Epoch 14/100, Loss: 5.551204245630485\n",
            "Epoch 15/100, Loss: 5.284137585205103\n",
            "Epoch 16/100, Loss: 5.019838454939569\n",
            "Epoch 17/100, Loss: 4.8680855511745404\n",
            "Epoch 18/100, Loss: 4.634690507693985\n",
            "Epoch 19/100, Loss: 4.455723557357108\n",
            "Epoch 20/100, Loss: 4.2357049096491535\n",
            "Epoch 21/100, Loss: 4.095944636576806\n",
            "Epoch 22/100, Loss: 3.961719423824149\n",
            "Epoch 23/100, Loss: 3.834413036471117\n",
            "Epoch 24/100, Loss: 3.584412812031474\n",
            "Epoch 25/100, Loss: 3.56181131572604\n",
            "Epoch 26/100, Loss: 3.432659908266444\n",
            "Epoch 27/100, Loss: 3.2624568034357604\n",
            "Epoch 28/100, Loss: 3.1849659589600035\n",
            "Epoch 29/100, Loss: 3.0973275038981303\n",
            "Epoch 30/100, Loss: 2.9607960160122704\n",
            "Epoch 31/100, Loss: 2.8929915270959823\n",
            "Epoch 32/100, Loss: 2.7762940053557013\n",
            "Epoch 33/100, Loss: 2.8016630318209796\n",
            "Epoch 34/100, Loss: 2.73754858311782\n",
            "Epoch 35/100, Loss: 2.5991720751253937\n",
            "Epoch 36/100, Loss: 2.5175299354098635\n",
            "Epoch 37/100, Loss: 2.520297465569713\n",
            "Epoch 38/100, Loss: 2.4571055269198383\n",
            "Epoch 39/100, Loss: 2.4220501448950875\n",
            "Epoch 40/100, Loss: 2.2827511268493805\n",
            "Epoch 41/100, Loss: 2.271681006209986\n",
            "Epoch 42/100, Loss: 2.3076588982880146\n",
            "Epoch 43/100, Loss: 2.1600572897627646\n",
            "Epoch 44/100, Loss: 2.1872713363346077\n",
            "Epoch 45/100, Loss: 2.1489871691233695\n",
            "Epoch 46/100, Loss: 2.095942841059605\n",
            "Epoch 47/100, Loss: 2.0562749087684433\n",
            "Epoch 48/100, Loss: 2.0207582717170536\n",
            "Epoch 49/100, Loss: 2.0207582717170554\n",
            "Epoch 50/100, Loss: 1.9192821658559447\n",
            "Epoch 51/100, Loss: 1.9045220050034175\n",
            "Epoch 52/100, Loss: 1.8869943139910432\n",
            "Epoch 53/100, Loss: 1.9275847563354884\n",
            "Epoch 54/100, Loss: 1.8473263816998804\n",
            "Epoch 55/100, Loss: 1.7527691012383917\n",
            "Epoch 56/100, Loss: 1.8012008790357397\n",
            "Epoch 57/100, Loss: 1.8643928176856142\n",
            "Epoch 58/100, Loss: 1.8071971943820777\n",
            "Epoch 59/100, Loss: 1.6845033572954609\n",
            "Epoch 60/100, Loss: 1.8390237912203338\n",
            "Epoch 61/100, Loss: 1.5774921911146496\n",
            "Epoch 62/100, Loss: 1.602399962553286\n",
            "Epoch 63/100, Loss: 1.6655919012031626\n",
            "Epoch 64/100, Loss: 1.6023999625532876\n",
            "Epoch 65/100, Loss: 1.6356103244714684\n",
            "Epoch 66/100, Loss: 1.5585807350223533\n",
            "Epoch 67/100, Loss: 1.5392080239034132\n",
            "Epoch 68/100, Loss: 1.4852411857863677\n",
            "Epoch 69/100, Loss: 1.4843186757330846\n",
            "Epoch 70/100, Loss: 1.5521231646493734\n",
            "Epoch 71/100, Loss: 1.4515695688415442\n",
            "Epoch 72/100, Loss: 1.4677134947739923\n",
            "Epoch 73/100, Loss: 1.4875474609195733\n",
            "Epoch 74/100, Loss: 1.463562199534219\n",
            "Epoch 75/100, Loss: 1.411440381523742\n",
            "Epoch 76/100, Loss: 1.3814588047920475\n",
            "Epoch 77/100, Loss: 1.344558402660735\n",
            "Epoch 78/100, Loss: 1.3496322079537908\n",
            "Epoch 79/100, Loss: 1.3611635836198253\n",
            "Epoch 80/100, Loss: 1.3025841952363657\n",
            "Epoch 81/100, Loss: 1.3473259328205824\n",
            "Epoch 82/100, Loss: 1.324263181488512\n",
            "Epoch 83/100, Loss: 1.2859790142772733\n",
            "Epoch 84/100, Loss: 1.2758314036911627\n",
            "Epoch 85/100, Loss: 1.2504623772258852\n",
            "Epoch 86/100, Loss: 1.358857308486619\n",
            "Epoch 87/100, Loss: 1.2209420555208346\n",
            "Epoch 88/100, Loss: 1.1789678480964647\n",
            "Epoch 89/100, Loss: 1.1951117740289139\n",
            "Epoch 90/100, Loss: 1.2237095856806832\n",
            "Epoch 91/100, Loss: 1.1988018142420456\n",
            "Epoch 92/100, Loss: 1.1734327877767698\n",
            "Epoch 93/100, Loss: 1.160056392004167\n",
            "Epoch 94/100, Loss: 1.272141363478031\n",
            "Epoch 95/100, Loss: 1.0585802861430542\n",
            "Epoch 96/100, Loss: 1.1157759094465913\n",
            "Epoch 97/100, Loss: 1.1494475263914141\n",
            "Epoch 98/100, Loss: 1.1047057888071978\n",
            "Epoch 99/100, Loss: 1.2343184512934344\n",
            "Epoch 100/100, Loss: 1.061347816302903\n"
          ]
        }
      ]
    },
    {
      "cell_type": "code",
      "source": [
        "def predict(x):\n",
        "  H1_output = feed_forward(x, W1, B1)\n",
        "  H2_output = feed_forward(H1_output, W2, B2)\n",
        "  softmax_output = softmax(np.dot(H2_output, W3) + B3)\n",
        "  ypred = np.argmax(softmax_output, axis = 1)\n",
        "  return ypred\n",
        "\n",
        "predictions = predict(test_images_normalized.reshape(test_images_normalized.shape[0], -1))\n",
        "accuracy = np.mean(predictions == test_labels)\n",
        "inaccurate_preds = predictions == test_labels\n",
        "print(\"Test Accuracy: \", accuracy)"
      ],
      "metadata": {
        "colab": {
          "base_uri": "https://localhost:8080/"
        },
        "id": "TmrGeP2L5tw5",
        "outputId": "fff5261a-e6a4-4a28-bbdf-ee9eb3d068ed"
      },
      "execution_count": 16,
      "outputs": [
        {
          "output_type": "stream",
          "name": "stdout",
          "text": [
            "Test Accuracy:  0.95\n"
          ]
        }
      ]
    },
    {
      "cell_type": "code",
      "source": [
        "inaccurate_preds = []\n",
        "for i in range(test_labels.shape[0]):\n",
        "  if test_labels[i] != predictions[i]:\n",
        "    inaccurate_preds.append(i)\n",
        "inaccurate_preds = inaccurate_preds[0:5]\n",
        "\n",
        "plt.figure(figsize = (10,5))\n",
        "for i in range(len(inaccurate_preds)):\n",
        "  plt.subplot(1, 5, (i+1)); plt.imshow(test_images_normalized[inaccurate_preds[i]]); plt.title(predictions[i])"
      ],
      "metadata": {
        "colab": {
          "base_uri": "https://localhost:8080/",
          "height": 216
        },
        "id": "D9LoobetGJKL",
        "outputId": "817c176e-7ffd-4cb2-b0da-c476d5447818"
      },
      "execution_count": 17,
      "outputs": [
        {
          "output_type": "display_data",
          "data": {
            "text/plain": [
              "<Figure size 1000x500 with 5 Axes>"
            ],
            "image/png": "[encoded data removed]"
          },
          "metadata": {}
        }
      ]
    },
    {
      "cell_type": "code",
      "source": [],
      "metadata": {
        "id": "n9F_u5jRPj5Q"
      },
      "execution_count": null,
      "outputs": []
    }
  ]
}