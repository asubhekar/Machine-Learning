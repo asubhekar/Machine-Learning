{
 "cells": [
  {
   "cell_type": "markdown",
   "id": "5bc8d0ee",
   "metadata": {},
   "source": [
    "# Linear Regression\n",
    "\n",
    "#### Objective: To predict the cooling load (y2 in the datasets)\n",
    "\n",
    "Suppose we consider the following three models to predict the cooling load on this dataset, including 1) \n",
    "Lasso regression, 2) Ridge regression, and 3) Elastic Net regression. Please use 5-fold cross validation to \n",
    "compare their performance based on mean squared error (MSE). To implement these models, you can use \n",
    "python and the sklearn packages. Please submit the code along with your solutions to get full points."
   ]
  },
  {
   "cell_type": "code",
   "execution_count": 6,
   "id": "5c1f07bb",
   "metadata": {},
   "outputs": [],
   "source": [
    "import numpy as np \n",
    "import pandas as pd\n",
    "import matplotlib.pyplot as plt \n",
    "from sklearn.preprocessing import StandardScaler\n",
    "from sklearn.preprocessing import MinMaxScaler\n",
    "from sklearn.model_selection import train_test_split\n",
    "from sklearn.linear_model import Lasso\n",
    "from sklearn.linear_model import Ridge\n",
    "from sklearn.linear_model import ElasticNet\n",
    "from sklearn.metrics import mean_squared_error\n",
    "from sklearn.model_selection import cross_val_score"
   ]
  },
  {
   "cell_type": "markdown",
   "id": "05ed4395",
   "metadata": {},
   "source": [
    "### Data Preprocessing\n"
   ]
  },
  {
   "cell_type": "code",
   "execution_count": 16,
   "id": "2a8f9ef7",
   "metadata": {},
   "outputs": [],
   "source": [
    "def preprocessing(df):\n",
    "    \n",
    "    #separating features and targets\n",
    "    features = df.iloc[:, :-1]\n",
    "    target_label = df.iloc[:, -1]\n",
    "    \n",
    "    #Splitting the data into training set and validation set\n",
    "    X_train, X_test, y_train, y_test = train_test_split(features, target_label, test_size = 0.2) \n",
    "    \n",
    "    \n",
    "    #Standardizing features \n",
    "    scaler = MinMaxScaler()\n",
    "    X_train = scaler.fit_transform(X_train)\n",
    "    X_test = scaler.transform(X_test)\n",
    "    \n",
    "    \n",
    "    \n",
    "    return X_train, X_test, y_train, y_test, features\n",
    "    "
   ]
  },
  {
   "cell_type": "code",
   "execution_count": 8,
   "id": "068ed683",
   "metadata": {},
   "outputs": [
    {
     "name": "stdout",
     "output_type": "stream",
     "text": [
      "\n",
      "Training set feature size =  (614, 8)\n",
      "Training set label size =  (614,)\n",
      "\n",
      "Validation set feature size =  (154, 8)\n",
      "Validation set label size =  (154,)\n"
     ]
    }
   ],
   "source": [
    "#Data Summary\n",
    "print(\"\\nTraining set feature size = \", X_train.shape)\n",
    "print(\"Training set label size = \", y_train.shape)\n",
    "print(\"\\nValidation set feature size = \", X_test.shape)\n",
    "print(\"Validation set label size = \", y_test.shape)\n",
    "    "
   ]
  },
  {
   "cell_type": "markdown",
   "id": "449e65f3",
   "metadata": {},
   "source": [
    "### Regression  "
   ]
  },
  {
   "cell_type": "code",
   "execution_count": 9,
   "id": "e63b4753",
   "metadata": {},
   "outputs": [],
   "source": [
    "#Lasso Regression \n",
    "def lasso(X_train, y_train):\n",
    "    #initialization\n",
    "    lasso_r = Lasso(0.1)\n",
    "    \n",
    "    #cross validaton using lasso\n",
    "    cv_lasso = cross_val_score(lasso_r, X_train, y_train, cv=5, scoring = 'neg_mean_squared_error')\n",
    "    mean_cv_lasso = np.mean(cv_lasso)/-1\n",
    "    print(\"\\n Lasso regression cross validation score = \", mean_cv_lasso)\n",
    "    \n",
    "    return mean_cv_lasso"
   ]
  },
  {
   "cell_type": "code",
   "execution_count": 10,
   "id": "330a617c",
   "metadata": {},
   "outputs": [],
   "source": [
    "def ridge(X_train, y_train):\n",
    "    #initialization\n",
    "    ridge_r = Ridge(0.1)\n",
    "    \n",
    "    #cross validaton using lasso\n",
    "    cv_ridge = cross_val_score(ridge_r, X_train, y_train, cv=5, scoring = 'neg_mean_squared_error')\n",
    "    mean_cv_ridge = np.mean(cv_ridge)/-1\n",
    "    print(\"\\n Ridge regression cross validation score = \", mean_cv_ridge)\n",
    "    \n",
    "    return mean_cv_ridge"
   ]
  },
  {
   "cell_type": "code",
   "execution_count": 11,
   "id": "5d6116d1",
   "metadata": {},
   "outputs": [],
   "source": [
    "def elasticnet(X_train, y_train):\n",
    "    #initialization\n",
    "    elastic_r = ElasticNet(0.1)\n",
    "    \n",
    "    #cross validaton using lasso\n",
    "    cv_elastic = cross_val_score(elastic_r, X_train, y_train, cv=5, scoring = 'neg_mean_squared_error')\n",
    "    mean_cv_elastic = np.mean(cv_elastic)/-1\n",
    "    print(\"\\n Elastic regression cross validation score = \", mean_cv_elastic)\n",
    "    \n",
    "    return mean_cv_elastic"
   ]
  },
  {
   "cell_type": "code",
   "execution_count": 12,
   "id": "f57e955f",
   "metadata": {},
   "outputs": [
    {
     "name": "stdout",
     "output_type": "stream",
     "text": [
      "\n",
      " Lasso regression cross validation score =  10.83586482416747\n",
      "\n",
      " Ridge regression cross validation score =  9.833364100469106\n",
      "\n",
      " Elastic regression cross validation score =  13.776224487401725\n"
     ]
    }
   ],
   "source": [
    "#importing dataset\n",
    "df = pd.read_excel('ENB2012_data.xlsx')\n",
    "\n",
    "#preprocessing the data\n",
    "X_train, X_test, y_train, y_test = preprocessing(df)\n",
    "\n",
    "# Regression\n",
    "lasso_average_crossval = lasso(X_train, y_train)\n",
    "ridge_average_crossval = ridge(X_train, y_train)\n",
    "elastic_average_crossval = elasticnet(X_train, y_train)\n",
    "\n"
   ]
  },
  {
   "cell_type": "markdown",
   "id": "580dd10d",
   "metadata": {},
   "source": [
    "### Observations \n",
    "On using 5-fold cross validation on all the used models, we can observed that the mean squared error is the least while using Ridge regression. So we fit this model on the validation data.\n"
   ]
  },
  {
   "cell_type": "code",
   "execution_count": 243,
   "id": "d86536e0",
   "metadata": {},
   "outputs": [
    {
     "name": "stdout",
     "output_type": "stream",
     "text": [
      "\\Mean Squared Error:  11.006911130242013\n"
     ]
    }
   ],
   "source": [
    "# initializing regressor\n",
    "ridge = Ridge()\n",
    "\n",
    "# fitting regressor on training data\n",
    "ridge.fit(X_train, y_train)\n",
    "\n",
    "# testing model on unknown data\n",
    "y_predicted = ridge.predict(X_test)\n",
    "\n",
    "# mean squared error\n",
    "print(\"\\Mean Squared Error: \", mean_squared_error(y_test, y_predicted))"
   ]
  },
  {
   "cell_type": "code",
   "execution_count": 18,
   "id": "f00d134c",
   "metadata": {},
   "outputs": [
    {
     "ename": "NameError",
     "evalue": "name 'features' is not defined",
     "output_type": "error",
     "traceback": [
      "\u001b[0;31m---------------------------------------------------------------------------\u001b[0m",
      "\u001b[0;31mNameError\u001b[0m                                 Traceback (most recent call last)",
      "Input \u001b[0;32mIn [18]\u001b[0m, in \u001b[0;36m<cell line: 1>\u001b[0;34m()\u001b[0m\n\u001b[0;32m----> 1\u001b[0m \u001b[43mfeatures\u001b[49m\n",
      "\u001b[0;31mNameError\u001b[0m: name 'features' is not defined"
     ]
    }
   ],
   "source": [
    "features"
   ]
  },
  {
   "cell_type": "code",
   "execution_count": null,
   "id": "460677c2",
   "metadata": {},
   "outputs": [],
   "source": []
  }
 ],
 "metadata": {
  "kernelspec": {
   "display_name": "Python 3 (ipykernel)",
   "language": "python",
   "name": "python3"
  },
  "language_info": {
   "codemirror_mode": {
    "name": "ipython",
    "version": 3
   },
   "file_extension": ".py",
   "mimetype": "text/x-python",
   "name": "python",
   "nbconvert_exporter": "python",
   "pygments_lexer": "ipython3",
   "version": "3.10.6"
  }
 },
 "nbformat": 4,
 "nbformat_minor": 5
}
