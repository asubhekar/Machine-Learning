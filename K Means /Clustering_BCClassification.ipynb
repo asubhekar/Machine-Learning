{
 "cells": [
  {
   "cell_type": "markdown",
   "id": "88eee9ee",
   "metadata": {},
   "source": [
    "# Assignment 8: Cluster\n",
    "   ## Name: Atharv Subhekar\n",
    "   ### CWID: 20015840 "
   ]
  },
  {
   "cell_type": "code",
   "execution_count": 44,
   "id": "3fb50580",
   "metadata": {},
   "outputs": [],
   "source": [
    "#import preprocessing libraries\n",
    "import pandas as pd \n",
    "import numpy as np\n",
    "from sklearn.preprocessing import StandardScaler\n",
    "\n",
    "#algorithm libraries\n",
    "import keras\n",
    "from sklearn.model_selection import train_test_split\n",
    "from scipy.cluster.hierarchy import linkage, cut_tree\n",
    "from sklearn.cluster import KMeans\n",
    "\n",
    "#Metrics libraries\n",
    "from sklearn.metrics import accuracy_score\n",
    "from sklearn.metrics import classification_report\n",
    "\n",
    "# Data visualization libraries\n",
    "import matplotlib.pyplot as plt"
   ]
  },
  {
   "cell_type": "markdown",
   "id": "344c54a3",
   "metadata": {},
   "source": [
    "### Data Processing"
   ]
  },
  {
   "cell_type": "code",
   "execution_count": 45,
   "id": "f859be5c",
   "metadata": {},
   "outputs": [
    {
     "data": {
      "text/plain": [
       "(569, 32)"
      ]
     },
     "execution_count": 45,
     "metadata": {},
     "output_type": "execute_result"
    }
   ],
   "source": [
    "# loading the dataset in pandas\n",
    "df = pd.read_csv(\"wisc_bc_ContinuousVar.csv\")\n",
    "df.shape"
   ]
  },
  {
   "cell_type": "code",
   "execution_count": 46,
   "id": "0ee8570c",
   "metadata": {},
   "outputs": [
    {
     "data": {
      "text/plain": [
       "id                         0\n",
       "diagnosis                  0\n",
       "radius_mean                0\n",
       "texture_mean               0\n",
       "perimeter_mean             0\n",
       "area_mean                  0\n",
       "smoothness_mean            0\n",
       "compactness_mean           0\n",
       "concavity_mean             0\n",
       "concave points_mean        0\n",
       "symmetry_mean              0\n",
       "fractal_dimension_mean     0\n",
       "radius_se                  0\n",
       "texture_se                 0\n",
       "perimeter_se               0\n",
       "area_se                    0\n",
       "smoothness_se              0\n",
       "compactness_se             0\n",
       "concavity_se               0\n",
       "concave points_se          0\n",
       "symmetry_se                0\n",
       "fractal_dimension_se       0\n",
       "radius_worst               0\n",
       "texture_worst              0\n",
       "perimeter_worst            0\n",
       "area_worst                 0\n",
       "smoothness_worst           0\n",
       "compactness_worst          0\n",
       "concavity_worst            0\n",
       "concave points_worst       0\n",
       "symmetry_worst             0\n",
       "fractal_dimension_worst    0\n",
       "dtype: int64"
      ]
     },
     "execution_count": 46,
     "metadata": {},
     "output_type": "execute_result"
    }
   ],
   "source": [
    "#Checking for missing values in the dataset\n",
    "df.isnull().sum()"
   ]
  },
  {
   "cell_type": "code",
   "execution_count": 47,
   "id": "d26b656f",
   "metadata": {},
   "outputs": [
    {
     "data": {
      "text/plain": [
       "0      1\n",
       "1      1\n",
       "2      1\n",
       "3      1\n",
       "4      1\n",
       "      ..\n",
       "564    1\n",
       "565    1\n",
       "566    1\n",
       "567    1\n",
       "568    0\n",
       "Name: diagnosis, Length: 569, dtype: int64"
      ]
     },
     "execution_count": 47,
     "metadata": {},
     "output_type": "execute_result"
    }
   ],
   "source": [
    "# storing the target labels\n",
    "target = df['diagnosis']\n",
    "target.replace('M', 1, inplace = True)\n",
    "target.replace('B', 0, inplace = True)\n",
    "target"
   ]
  },
  {
   "cell_type": "code",
   "execution_count": 48,
   "id": "efe1901d",
   "metadata": {},
   "outputs": [
    {
     "data": {
      "text/plain": [
       "(569, 30)"
      ]
     },
     "execution_count": 48,
     "metadata": {},
     "output_type": "execute_result"
    }
   ],
   "source": [
    "#Dropping the unnecessary columns \n",
    "features = df.drop(columns = ['id','diagnosis'])\n",
    "features.shape"
   ]
  },
  {
   "cell_type": "markdown",
   "id": "c268b785",
   "metadata": {},
   "source": [
    "### Feature Scaling"
   ]
  },
  {
   "cell_type": "code",
   "execution_count": 49,
   "id": "51397794",
   "metadata": {},
   "outputs": [],
   "source": [
    "# Feature Scaling\n",
    "sc = StandardScaler()\n",
    "feature_scaled = sc.fit_transform(features)"
   ]
  },
  {
   "cell_type": "markdown",
   "id": "d3b203b8",
   "metadata": {},
   "source": [
    "### Hierarchial Clustering Model"
   ]
  },
  {
   "cell_type": "code",
   "execution_count": 50,
   "id": "76e2f337",
   "metadata": {},
   "outputs": [],
   "source": [
    "# Initialize the model\n",
    "dendrogram = linkage(feature_scaled, method=\"complete\")"
   ]
  },
  {
   "cell_type": "code",
   "execution_count": 51,
   "id": "468ea503",
   "metadata": {},
   "outputs": [],
   "source": [
    "clusters = cut_tree(dendrogram, n_clusters=2)"
   ]
  },
  {
   "cell_type": "code",
   "execution_count": 52,
   "id": "8e16677b",
   "metadata": {},
   "outputs": [],
   "source": [
    "results = pd.DataFrame({\"diagnosis\": df[\"diagnosis\"], \"cluster\": clusters.ravel()})\n",
    "tabulated = pd.crosstab(results[\"diagnosis\"], results[\"cluster\"])"
   ]
  },
  {
   "cell_type": "code",
   "execution_count": 53,
   "id": "8d047262",
   "metadata": {},
   "outputs": [
    {
     "data": {
      "text/html": [
       "<div>\n",
       "<style scoped>\n",
       "    .dataframe tbody tr th:only-of-type {\n",
       "        vertical-align: middle;\n",
       "    }\n",
       "\n",
       "    .dataframe tbody tr th {\n",
       "        vertical-align: top;\n",
       "    }\n",
       "\n",
       "    .dataframe thead th {\n",
       "        text-align: right;\n",
       "    }\n",
       "</style>\n",
       "<table border=\"1\" class=\"dataframe\">\n",
       "  <thead>\n",
       "    <tr style=\"text-align: right;\">\n",
       "      <th>cluster</th>\n",
       "      <th>0</th>\n",
       "      <th>1</th>\n",
       "    </tr>\n",
       "    <tr>\n",
       "      <th>diagnosis</th>\n",
       "      <th></th>\n",
       "      <th></th>\n",
       "    </tr>\n",
       "  </thead>\n",
       "  <tbody>\n",
       "    <tr>\n",
       "      <th>0</th>\n",
       "      <td>357</td>\n",
       "      <td>0</td>\n",
       "    </tr>\n",
       "    <tr>\n",
       "      <th>1</th>\n",
       "      <td>210</td>\n",
       "      <td>2</td>\n",
       "    </tr>\n",
       "  </tbody>\n",
       "</table>\n",
       "</div>"
      ],
      "text/plain": [
       "cluster      0  1\n",
       "diagnosis        \n",
       "0          357  0\n",
       "1          210  2"
      ]
     },
     "execution_count": 53,
     "metadata": {},
     "output_type": "execute_result"
    }
   ],
   "source": [
    "tabulated"
   ]
  },
  {
   "cell_type": "code",
   "execution_count": 54,
   "id": "37b02ce1",
   "metadata": {},
   "outputs": [
    {
     "name": "stdout",
     "output_type": "stream",
     "text": [
      "              precision    recall  f1-score   support\n",
      "\n",
      "           0       0.63      1.00      0.77       357\n",
      "           1       1.00      0.01      0.02       212\n",
      "\n",
      "    accuracy                           0.63       569\n",
      "   macro avg       0.81      0.50      0.40       569\n",
      "weighted avg       0.77      0.63      0.49       569\n",
      "\n"
     ]
    }
   ],
   "source": [
    "classification = classification_report(target, clusters)\n",
    "print(classification)"
   ]
  },
  {
   "cell_type": "markdown",
   "id": "ac26c8e6",
   "metadata": {},
   "source": [
    "### K-Means Clustering"
   ]
  },
  {
   "cell_type": "code",
   "execution_count": 55,
   "id": "44e6849a",
   "metadata": {
    "scrolled": true
   },
   "outputs": [],
   "source": [
    "kmeans = KMeans(n_clusters = 2)\n",
    "clusters = kmeans.fit_predict(feature_scaled)"
   ]
  },
  {
   "cell_type": "code",
   "execution_count": 56,
   "id": "6d6ef362",
   "metadata": {},
   "outputs": [],
   "source": [
    "results = pd.DataFrame({\"diagnosis\": df[\"diagnosis\"], \"cluster\": clusters.ravel()})\n",
    "tabulated = pd.crosstab(results[\"diagnosis\"], results[\"cluster\"])"
   ]
  },
  {
   "cell_type": "code",
   "execution_count": 57,
   "id": "39717399",
   "metadata": {},
   "outputs": [
    {
     "data": {
      "text/html": [
       "<div>\n",
       "<style scoped>\n",
       "    .dataframe tbody tr th:only-of-type {\n",
       "        vertical-align: middle;\n",
       "    }\n",
       "\n",
       "    .dataframe tbody tr th {\n",
       "        vertical-align: top;\n",
       "    }\n",
       "\n",
       "    .dataframe thead th {\n",
       "        text-align: right;\n",
       "    }\n",
       "</style>\n",
       "<table border=\"1\" class=\"dataframe\">\n",
       "  <thead>\n",
       "    <tr style=\"text-align: right;\">\n",
       "      <th>cluster</th>\n",
       "      <th>0</th>\n",
       "      <th>1</th>\n",
       "    </tr>\n",
       "    <tr>\n",
       "      <th>diagnosis</th>\n",
       "      <th></th>\n",
       "      <th></th>\n",
       "    </tr>\n",
       "  </thead>\n",
       "  <tbody>\n",
       "    <tr>\n",
       "      <th>0</th>\n",
       "      <td>14</td>\n",
       "      <td>343</td>\n",
       "    </tr>\n",
       "    <tr>\n",
       "      <th>1</th>\n",
       "      <td>175</td>\n",
       "      <td>37</td>\n",
       "    </tr>\n",
       "  </tbody>\n",
       "</table>\n",
       "</div>"
      ],
      "text/plain": [
       "cluster      0    1\n",
       "diagnosis          \n",
       "0           14  343\n",
       "1          175   37"
      ]
     },
     "execution_count": 57,
     "metadata": {},
     "output_type": "execute_result"
    }
   ],
   "source": [
    "tabulated"
   ]
  },
  {
   "cell_type": "code",
   "execution_count": 58,
   "id": "faa3b2c7",
   "metadata": {},
   "outputs": [
    {
     "name": "stdout",
     "output_type": "stream",
     "text": [
      "              precision    recall  f1-score   support\n",
      "\n",
      "           0       0.07      0.04      0.05       357\n",
      "           1       0.10      0.17      0.12       212\n",
      "\n",
      "    accuracy                           0.09       569\n",
      "   macro avg       0.09      0.11      0.09       569\n",
      "weighted avg       0.08      0.09      0.08       569\n",
      "\n"
     ]
    }
   ],
   "source": [
    "classification = classification_report(target, clusters)\n",
    "print(classification)"
   ]
  },
  {
   "cell_type": "code",
   "execution_count": null,
   "id": "b0acf7da",
   "metadata": {},
   "outputs": [],
   "source": []
  }
 ],
 "metadata": {
  "kernelspec": {
   "display_name": "Python 3 (ipykernel)",
   "language": "python",
   "name": "python3"
  },
  "language_info": {
   "codemirror_mode": {
    "name": "ipython",
    "version": 3
   },
   "file_extension": ".py",
   "mimetype": "text/x-python",
   "name": "python",
   "nbconvert_exporter": "python",
   "pygments_lexer": "ipython3",
   "version": "3.10.8"
  }
 },
 "nbformat": 4,
 "nbformat_minor": 5
}
