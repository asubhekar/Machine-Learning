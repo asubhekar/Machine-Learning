{
 "cells": [
  {
   "cell_type": "markdown",
   "id": "d05b41ef",
   "metadata": {
    "id": "d05b41ef"
   },
   "source": [
    "# Neural Networks\n",
    "\n",
    "### Name: Atharv Subhekar \n",
    "### CWID: 20015840"
   ]
  },
  {
   "cell_type": "markdown",
   "id": "4b443bf0",
   "metadata": {
    "id": "4b443bf0"
   },
   "source": [
    "## Importing Libraries"
   ]
  },
  {
   "cell_type": "code",
   "execution_count": 2,
   "id": "bf0e8f84",
   "metadata": {},
   "outputs": [
    {
     "name": "stdout",
     "output_type": "stream",
     "text": [
      "zsh:1: command not found: pip\r\n"
     ]
    }
   ],
   "source": [
    "!pip install sklearn\n",
    "\n",
    "\n",
    "\n"
   ]
  },
  {
   "cell_type": "code",
   "execution_count": 4,
   "id": "40b474d1",
   "metadata": {
    "id": "40b474d1"
   },
   "outputs": [
    {
     "ename": "ModuleNotFoundError",
     "evalue": "No module named 'matplotlib'",
     "output_type": "error",
     "traceback": [
      "\u001b[0;31m---------------------------------------------------------------------------\u001b[0m",
      "\u001b[0;31mModuleNotFoundError\u001b[0m                       Traceback (most recent call last)",
      "Cell \u001b[0;32mIn[4], line 9\u001b[0m\n\u001b[1;32m      6\u001b[0m \u001b[38;5;28;01mfrom\u001b[39;00m \u001b[38;5;21;01msklearn\u001b[39;00m\u001b[38;5;21;01m.\u001b[39;00m\u001b[38;5;21;01mmodel_selection\u001b[39;00m \u001b[38;5;28;01mimport\u001b[39;00m train_test_split\n\u001b[1;32m      7\u001b[0m \u001b[38;5;28;01mfrom\u001b[39;00m \u001b[38;5;21;01mtensorflow\u001b[39;00m\u001b[38;5;21;01m.\u001b[39;00m\u001b[38;5;21;01mkeras\u001b[39;00m \u001b[38;5;28;01mimport\u001b[39;00m Sequential\n\u001b[0;32m----> 9\u001b[0m \u001b[38;5;28;01mimport\u001b[39;00m \u001b[38;5;21;01mmatplotlib\u001b[39;00m\u001b[38;5;21;01m.\u001b[39;00m\u001b[38;5;21;01mpyplot\u001b[39;00m \u001b[38;5;28;01mas\u001b[39;00m \u001b[38;5;21;01mplt\u001b[39;00m\n",
      "\u001b[0;31mModuleNotFoundError\u001b[0m: No module named 'matplotlib'"
     ]
    }
   ],
   "source": [
    "import pandas as pd\n",
    "import numpy as np\n",
    "\n",
    "#import tensorflow as tf\n",
    "from sklearn.preprocessing import LabelEncoder\n",
    "from sklearn.model_selection import train_test_split\n",
    "from tensorflow.keras import Sequential\n",
    "\n",
    "import matplotlib.pyplot as plt"
   ]
  },
  {
   "cell_type": "markdown",
   "id": "9fd1a8b1",
   "metadata": {
    "id": "9fd1a8b1"
   },
   "source": [
    "## Data Preprocessing"
   ]
  },
  {
   "cell_type": "code",
   "execution_count": null,
   "id": "5791ee7b",
   "metadata": {
    "id": "5791ee7b"
   },
   "outputs": [],
   "source": [
    "# loading dataset\n",
    "names = ['sepal-length', 'sepal-width', 'petal-length', 'petal-width', 'class']\n",
    "dataset = pd.read_csv(\"iris.data\", names = names)\n",
    "\n",
    "# splitting dataset into features and target\n",
    "X = dataset.iloc[:,0:4].values\n",
    "y = dataset.iloc[:,4].values\n",
    "\n",
    "# label and one hot encoding target values\n",
    "label_encoder =  LabelEncoder()\n",
    "y = label_encoder.fit_transform(y)\n",
    "y = pd.get_dummies(y).values\n",
    "\n",
    "# splitting data into training and test set\n",
    "X_train, X_test, y_train, y_test = train_test_split(X, y, test_size=0.1, random_state=0)"
   ]
  },
  {
   "cell_type": "markdown",
   "id": "3b05e1c4",
   "metadata": {
    "id": "3b05e1c4"
   },
   "source": [
    "## Neural Network"
   ]
  },
  {
   "cell_type": "code",
   "execution_count": null,
   "id": "93512212",
   "metadata": {
    "colab": {
     "base_uri": "https://localhost:8080/"
    },
    "id": "93512212",
    "outputId": "0b43f296-bae8-47e8-c618-f6faab7002cb"
   },
   "outputs": [
    {
     "name": "stdout",
     "output_type": "stream",
     "text": [
      "Epoch 1/100\n",
      "4/4 [==============================] - 2s 94ms/step - loss: 1.1357 - accuracy: 0.2231 - val_loss: 1.0542 - val_accuracy: 0.5714\n",
      "Epoch 2/100\n",
      "4/4 [==============================] - 0s 13ms/step - loss: 1.0080 - accuracy: 0.6694 - val_loss: 0.9632 - val_accuracy: 0.6429\n",
      "Epoch 3/100\n",
      "4/4 [==============================] - 0s 19ms/step - loss: 0.9201 - accuracy: 0.6942 - val_loss: 0.8862 - val_accuracy: 0.6429\n",
      "Epoch 4/100\n",
      "4/4 [==============================] - 0s 13ms/step - loss: 0.8484 - accuracy: 0.6942 - val_loss: 0.8217 - val_accuracy: 0.6429\n",
      "Epoch 5/100\n",
      "4/4 [==============================] - 0s 12ms/step - loss: 0.7788 - accuracy: 0.6942 - val_loss: 0.7653 - val_accuracy: 0.6429\n",
      "Epoch 6/100\n",
      "4/4 [==============================] - 0s 14ms/step - loss: 0.7225 - accuracy: 0.6942 - val_loss: 0.7184 - val_accuracy: 0.6429\n",
      "Epoch 7/100\n",
      "4/4 [==============================] - 0s 13ms/step - loss: 0.6651 - accuracy: 0.6942 - val_loss: 0.6603 - val_accuracy: 0.6429\n",
      "Epoch 8/100\n",
      "4/4 [==============================] - 0s 19ms/step - loss: 0.6104 - accuracy: 0.6942 - val_loss: 0.6081 - val_accuracy: 0.6429\n",
      "Epoch 9/100\n",
      "4/4 [==============================] - 0s 12ms/step - loss: 0.5630 - accuracy: 0.6942 - val_loss: 0.5588 - val_accuracy: 0.6429\n",
      "Epoch 10/100\n",
      "4/4 [==============================] - 0s 13ms/step - loss: 0.5160 - accuracy: 0.7107 - val_loss: 0.5140 - val_accuracy: 0.6429\n",
      "Epoch 11/100\n",
      "4/4 [==============================] - 0s 14ms/step - loss: 0.4761 - accuracy: 0.7273 - val_loss: 0.4685 - val_accuracy: 0.6429\n",
      "Epoch 12/100\n",
      "4/4 [==============================] - 0s 13ms/step - loss: 0.4374 - accuracy: 0.7934 - val_loss: 0.4256 - val_accuracy: 0.7857\n",
      "Epoch 13/100\n",
      "4/4 [==============================] - 0s 14ms/step - loss: 0.4067 - accuracy: 0.8430 - val_loss: 0.3907 - val_accuracy: 0.8571\n",
      "Epoch 14/100\n",
      "4/4 [==============================] - 0s 13ms/step - loss: 0.3737 - accuracy: 0.8760 - val_loss: 0.3587 - val_accuracy: 0.8571\n",
      "Epoch 15/100\n",
      "4/4 [==============================] - 0s 13ms/step - loss: 0.3503 - accuracy: 0.9256 - val_loss: 0.3205 - val_accuracy: 0.9286\n",
      "Epoch 16/100\n",
      "4/4 [==============================] - 0s 14ms/step - loss: 0.3197 - accuracy: 0.9256 - val_loss: 0.3124 - val_accuracy: 0.8571\n",
      "Epoch 17/100\n",
      "4/4 [==============================] - 0s 12ms/step - loss: 0.2938 - accuracy: 0.9256 - val_loss: 0.2658 - val_accuracy: 0.9286\n",
      "Epoch 18/100\n",
      "4/4 [==============================] - 0s 14ms/step - loss: 0.2692 - accuracy: 0.9669 - val_loss: 0.2371 - val_accuracy: 0.9286\n",
      "Epoch 19/100\n",
      "4/4 [==============================] - 0s 19ms/step - loss: 0.2539 - accuracy: 0.9752 - val_loss: 0.2317 - val_accuracy: 0.9286\n",
      "Epoch 20/100\n",
      "4/4 [==============================] - 0s 13ms/step - loss: 0.2406 - accuracy: 0.9174 - val_loss: 0.2192 - val_accuracy: 0.9286\n",
      "Epoch 21/100\n",
      "4/4 [==============================] - 0s 13ms/step - loss: 0.2134 - accuracy: 0.9669 - val_loss: 0.1688 - val_accuracy: 1.0000\n",
      "Epoch 22/100\n",
      "4/4 [==============================] - 0s 12ms/step - loss: 0.2008 - accuracy: 0.9669 - val_loss: 0.1893 - val_accuracy: 0.9286\n",
      "Epoch 23/100\n",
      "4/4 [==============================] - 0s 14ms/step - loss: 0.1901 - accuracy: 0.9421 - val_loss: 0.1735 - val_accuracy: 0.9286\n",
      "Epoch 24/100\n",
      "4/4 [==============================] - 0s 13ms/step - loss: 0.1689 - accuracy: 0.9587 - val_loss: 0.1281 - val_accuracy: 1.0000\n",
      "Epoch 25/100\n",
      "4/4 [==============================] - 0s 15ms/step - loss: 0.1666 - accuracy: 0.9917 - val_loss: 0.1411 - val_accuracy: 0.9286\n",
      "Epoch 26/100\n",
      "4/4 [==============================] - 0s 13ms/step - loss: 0.1621 - accuracy: 0.9587 - val_loss: 0.1309 - val_accuracy: 0.9286\n",
      "Epoch 27/100\n",
      "4/4 [==============================] - 0s 13ms/step - loss: 0.1569 - accuracy: 0.9504 - val_loss: 0.1044 - val_accuracy: 0.9286\n",
      "Epoch 28/100\n",
      "4/4 [==============================] - 0s 13ms/step - loss: 0.1400 - accuracy: 0.9669 - val_loss: 0.1428 - val_accuracy: 0.9286\n",
      "Epoch 29/100\n",
      "4/4 [==============================] - 0s 15ms/step - loss: 0.1347 - accuracy: 0.9752 - val_loss: 0.0897 - val_accuracy: 1.0000\n",
      "Epoch 30/100\n",
      "4/4 [==============================] - 0s 14ms/step - loss: 0.1291 - accuracy: 0.9752 - val_loss: 0.1162 - val_accuracy: 0.9286\n",
      "Epoch 31/100\n",
      "4/4 [==============================] - 0s 19ms/step - loss: 0.1225 - accuracy: 0.9669 - val_loss: 0.1036 - val_accuracy: 0.9286\n",
      "Epoch 32/100\n",
      "4/4 [==============================] - 0s 20ms/step - loss: 0.1243 - accuracy: 0.9752 - val_loss: 0.1036 - val_accuracy: 0.9286\n",
      "Epoch 33/100\n",
      "4/4 [==============================] - 0s 14ms/step - loss: 0.1342 - accuracy: 0.9504 - val_loss: 0.0841 - val_accuracy: 0.9286\n",
      "Epoch 34/100\n",
      "4/4 [==============================] - 0s 13ms/step - loss: 0.1115 - accuracy: 0.9835 - val_loss: 0.1345 - val_accuracy: 0.9286\n",
      "Epoch 35/100\n",
      "4/4 [==============================] - 0s 21ms/step - loss: 0.1087 - accuracy: 0.9752 - val_loss: 0.0666 - val_accuracy: 1.0000\n",
      "Epoch 36/100\n",
      "4/4 [==============================] - 0s 29ms/step - loss: 0.1194 - accuracy: 0.9587 - val_loss: 0.0984 - val_accuracy: 0.9286\n",
      "Epoch 37/100\n",
      "4/4 [==============================] - 0s 59ms/step - loss: 0.1058 - accuracy: 0.9669 - val_loss: 0.1006 - val_accuracy: 0.9286\n",
      "Epoch 38/100\n",
      "4/4 [==============================] - 0s 29ms/step - loss: 0.1025 - accuracy: 0.9835 - val_loss: 0.0692 - val_accuracy: 0.9286\n",
      "Epoch 39/100\n",
      "4/4 [==============================] - 0s 45ms/step - loss: 0.1248 - accuracy: 0.9504 - val_loss: 0.1209 - val_accuracy: 0.9286\n",
      "Epoch 40/100\n",
      "4/4 [==============================] - 0s 31ms/step - loss: 0.0882 - accuracy: 0.9835 - val_loss: 0.0584 - val_accuracy: 1.0000\n",
      "Epoch 41/100\n",
      "4/4 [==============================] - 0s 22ms/step - loss: 0.1080 - accuracy: 0.9504 - val_loss: 0.0923 - val_accuracy: 0.9286\n",
      "Epoch 42/100\n",
      "4/4 [==============================] - 0s 28ms/step - loss: 0.0889 - accuracy: 0.9835 - val_loss: 0.1138 - val_accuracy: 0.9286\n",
      "Epoch 43/100\n",
      "4/4 [==============================] - 0s 32ms/step - loss: 0.0987 - accuracy: 0.9669 - val_loss: 0.0743 - val_accuracy: 0.9286\n",
      "Epoch 44/100\n",
      "4/4 [==============================] - 0s 29ms/step - loss: 0.0994 - accuracy: 0.9587 - val_loss: 0.0582 - val_accuracy: 1.0000\n",
      "Epoch 45/100\n",
      "4/4 [==============================] - 0s 40ms/step - loss: 0.0923 - accuracy: 0.9835 - val_loss: 0.1268 - val_accuracy: 0.9286\n",
      "Epoch 46/100\n",
      "4/4 [==============================] - 0s 22ms/step - loss: 0.0935 - accuracy: 0.9752 - val_loss: 0.0637 - val_accuracy: 0.9286\n",
      "Epoch 47/100\n",
      "4/4 [==============================] - 0s 72ms/step - loss: 0.0922 - accuracy: 0.9752 - val_loss: 0.0931 - val_accuracy: 0.9286\n",
      "Epoch 48/100\n",
      "4/4 [==============================] - 0s 42ms/step - loss: 0.0939 - accuracy: 0.9669 - val_loss: 0.1131 - val_accuracy: 0.9286\n",
      "Epoch 49/100\n",
      "4/4 [==============================] - 0s 44ms/step - loss: 0.0837 - accuracy: 0.9752 - val_loss: 0.0520 - val_accuracy: 1.0000\n",
      "Epoch 50/100\n",
      "4/4 [==============================] - 0s 51ms/step - loss: 0.0888 - accuracy: 0.9669 - val_loss: 0.1003 - val_accuracy: 0.9286\n",
      "Epoch 51/100\n",
      "4/4 [==============================] - 0s 28ms/step - loss: 0.1163 - accuracy: 0.9504 - val_loss: 0.1293 - val_accuracy: 0.9286\n",
      "Epoch 52/100\n",
      "4/4 [==============================] - 0s 27ms/step - loss: 0.1141 - accuracy: 0.9421 - val_loss: 0.0383 - val_accuracy: 1.0000\n",
      "Epoch 53/100\n",
      "4/4 [==============================] - 0s 42ms/step - loss: 0.0997 - accuracy: 0.9587 - val_loss: 0.1302 - val_accuracy: 0.9286\n",
      "Epoch 54/100\n",
      "4/4 [==============================] - 0s 58ms/step - loss: 0.0856 - accuracy: 0.9835 - val_loss: 0.0813 - val_accuracy: 0.9286\n",
      "Epoch 55/100\n",
      "4/4 [==============================] - 0s 35ms/step - loss: 0.0872 - accuracy: 0.9752 - val_loss: 0.0686 - val_accuracy: 0.9286\n",
      "Epoch 56/100\n",
      "4/4 [==============================] - 0s 39ms/step - loss: 0.0760 - accuracy: 0.9917 - val_loss: 0.0977 - val_accuracy: 0.9286\n",
      "Epoch 57/100\n",
      "4/4 [==============================] - 0s 29ms/step - loss: 0.0773 - accuracy: 0.9835 - val_loss: 0.0802 - val_accuracy: 0.9286\n",
      "Epoch 58/100\n",
      "4/4 [==============================] - 0s 13ms/step - loss: 0.0750 - accuracy: 0.9917 - val_loss: 0.0700 - val_accuracy: 0.9286\n",
      "Epoch 59/100\n",
      "4/4 [==============================] - 0s 13ms/step - loss: 0.0758 - accuracy: 0.9752 - val_loss: 0.0859 - val_accuracy: 0.9286\n",
      "Epoch 60/100\n",
      "4/4 [==============================] - 0s 13ms/step - loss: 0.0812 - accuracy: 0.9752 - val_loss: 0.0873 - val_accuracy: 0.9286\n",
      "Epoch 61/100\n",
      "4/4 [==============================] - 0s 12ms/step - loss: 0.0759 - accuracy: 0.9917 - val_loss: 0.0599 - val_accuracy: 0.9286\n",
      "Epoch 62/100\n",
      "4/4 [==============================] - 0s 17ms/step - loss: 0.0800 - accuracy: 0.9752 - val_loss: 0.0899 - val_accuracy: 0.9286\n",
      "Epoch 63/100\n",
      "4/4 [==============================] - 0s 17ms/step - loss: 0.0723 - accuracy: 0.9835 - val_loss: 0.0704 - val_accuracy: 0.9286\n",
      "Epoch 64/100\n",
      "4/4 [==============================] - 0s 17ms/step - loss: 0.0772 - accuracy: 0.9835 - val_loss: 0.0850 - val_accuracy: 0.9286\n",
      "Epoch 65/100\n",
      "4/4 [==============================] - 0s 13ms/step - loss: 0.0793 - accuracy: 0.9752 - val_loss: 0.0847 - val_accuracy: 0.9286\n",
      "Epoch 66/100\n",
      "4/4 [==============================] - 0s 18ms/step - loss: 0.0847 - accuracy: 0.9587 - val_loss: 0.0608 - val_accuracy: 0.9286\n",
      "Epoch 67/100\n",
      "4/4 [==============================] - 0s 15ms/step - loss: 0.0729 - accuracy: 0.9669 - val_loss: 0.1147 - val_accuracy: 0.9286\n",
      "Epoch 68/100\n",
      "4/4 [==============================] - 0s 13ms/step - loss: 0.0746 - accuracy: 0.9835 - val_loss: 0.0732 - val_accuracy: 0.9286\n",
      "Epoch 69/100\n",
      "4/4 [==============================] - 0s 12ms/step - loss: 0.0733 - accuracy: 0.9752 - val_loss: 0.0712 - val_accuracy: 0.9286\n",
      "Epoch 70/100\n",
      "4/4 [==============================] - 0s 15ms/step - loss: 0.0686 - accuracy: 0.9917 - val_loss: 0.1021 - val_accuracy: 0.9286\n",
      "Epoch 71/100\n",
      "4/4 [==============================] - 0s 15ms/step - loss: 0.0726 - accuracy: 0.9835 - val_loss: 0.0985 - val_accuracy: 0.9286\n",
      "Epoch 72/100\n",
      "4/4 [==============================] - 0s 14ms/step - loss: 0.0712 - accuracy: 0.9835 - val_loss: 0.0740 - val_accuracy: 0.9286\n",
      "Epoch 73/100\n",
      "4/4 [==============================] - 0s 16ms/step - loss: 0.0691 - accuracy: 0.9835 - val_loss: 0.0609 - val_accuracy: 0.9286\n",
      "Epoch 74/100\n",
      "4/4 [==============================] - 0s 15ms/step - loss: 0.0778 - accuracy: 0.9752 - val_loss: 0.0770 - val_accuracy: 0.9286\n",
      "Epoch 75/100\n",
      "4/4 [==============================] - 0s 14ms/step - loss: 0.0748 - accuracy: 0.9835 - val_loss: 0.1254 - val_accuracy: 0.9286\n",
      "Epoch 76/100\n",
      "4/4 [==============================] - 0s 17ms/step - loss: 0.0676 - accuracy: 0.9917 - val_loss: 0.0534 - val_accuracy: 0.9286\n",
      "Epoch 77/100\n",
      "4/4 [==============================] - 0s 13ms/step - loss: 0.0797 - accuracy: 0.9752 - val_loss: 0.0831 - val_accuracy: 0.9286\n",
      "Epoch 78/100\n",
      "4/4 [==============================] - 0s 19ms/step - loss: 0.0694 - accuracy: 0.9835 - val_loss: 0.1306 - val_accuracy: 0.9286\n",
      "Epoch 79/100\n",
      "4/4 [==============================] - 0s 13ms/step - loss: 0.0681 - accuracy: 0.9835 - val_loss: 0.0643 - val_accuracy: 0.9286\n",
      "Epoch 80/100\n",
      "4/4 [==============================] - 0s 17ms/step - loss: 0.0756 - accuracy: 0.9752 - val_loss: 0.0575 - val_accuracy: 0.9286\n",
      "Epoch 81/100\n",
      "4/4 [==============================] - 0s 15ms/step - loss: 0.0709 - accuracy: 0.9835 - val_loss: 0.1209 - val_accuracy: 0.9286\n",
      "Epoch 82/100\n",
      "4/4 [==============================] - 0s 13ms/step - loss: 0.0710 - accuracy: 0.9752 - val_loss: 0.0805 - val_accuracy: 0.9286\n",
      "Epoch 83/100\n",
      "4/4 [==============================] - 0s 13ms/step - loss: 0.0712 - accuracy: 0.9752 - val_loss: 0.0614 - val_accuracy: 0.9286\n",
      "Epoch 84/100\n",
      "4/4 [==============================] - 0s 14ms/step - loss: 0.0696 - accuracy: 0.9752 - val_loss: 0.1062 - val_accuracy: 0.9286\n",
      "Epoch 85/100\n",
      "4/4 [==============================] - 0s 13ms/step - loss: 0.0712 - accuracy: 0.9835 - val_loss: 0.0970 - val_accuracy: 0.9286\n",
      "Epoch 86/100\n",
      "4/4 [==============================] - 0s 15ms/step - loss: 0.0661 - accuracy: 0.9835 - val_loss: 0.0920 - val_accuracy: 0.9286\n",
      "Epoch 87/100\n",
      "4/4 [==============================] - 0s 13ms/step - loss: 0.0694 - accuracy: 0.9917 - val_loss: 0.0823 - val_accuracy: 0.9286\n",
      "Epoch 88/100\n",
      "4/4 [==============================] - 0s 13ms/step - loss: 0.0642 - accuracy: 0.9917 - val_loss: 0.1177 - val_accuracy: 0.9286\n",
      "Epoch 89/100\n",
      "4/4 [==============================] - 0s 20ms/step - loss: 0.0744 - accuracy: 0.9752 - val_loss: 0.0909 - val_accuracy: 0.9286\n",
      "Epoch 90/100\n",
      "4/4 [==============================] - 0s 13ms/step - loss: 0.1050 - accuracy: 0.9587 - val_loss: 0.0518 - val_accuracy: 0.9286\n",
      "Epoch 91/100\n",
      "4/4 [==============================] - 0s 15ms/step - loss: 0.0788 - accuracy: 0.9835 - val_loss: 0.1638 - val_accuracy: 0.9286\n",
      "Epoch 92/100\n",
      "4/4 [==============================] - 0s 12ms/step - loss: 0.0734 - accuracy: 0.9835 - val_loss: 0.0449 - val_accuracy: 1.0000\n",
      "Epoch 93/100\n",
      "4/4 [==============================] - 0s 18ms/step - loss: 0.0968 - accuracy: 0.9421 - val_loss: 0.0904 - val_accuracy: 0.9286\n",
      "Epoch 94/100\n",
      "4/4 [==============================] - 0s 13ms/step - loss: 0.0778 - accuracy: 0.9835 - val_loss: 0.1618 - val_accuracy: 0.9286\n",
      "Epoch 95/100\n",
      "4/4 [==============================] - 0s 12ms/step - loss: 0.0855 - accuracy: 0.9669 - val_loss: 0.0550 - val_accuracy: 0.9286\n",
      "Epoch 96/100\n",
      "4/4 [==============================] - 0s 23ms/step - loss: 0.0697 - accuracy: 0.9752 - val_loss: 0.0986 - val_accuracy: 0.9286\n",
      "Epoch 97/100\n",
      "4/4 [==============================] - 0s 25ms/step - loss: 0.0685 - accuracy: 0.9835 - val_loss: 0.1261 - val_accuracy: 0.9286\n",
      "Epoch 98/100\n",
      "4/4 [==============================] - 0s 22ms/step - loss: 0.0646 - accuracy: 0.9835 - val_loss: 0.0721 - val_accuracy: 0.9286\n",
      "Epoch 99/100\n",
      "4/4 [==============================] - 0s 19ms/step - loss: 0.0798 - accuracy: 0.9752 - val_loss: 0.0656 - val_accuracy: 0.9286\n",
      "Epoch 100/100\n",
      "4/4 [==============================] - 0s 21ms/step - loss: 0.0588 - accuracy: 0.9835 - val_loss: 0.1391 - val_accuracy: 0.9286\n"
     ]
    }
   ],
   "source": [
    "# building neural network\n",
    "model = tf.keras.Sequential([\n",
    "    tf.keras.layers.Dense(128, activation='relu'),\n",
    "    tf.keras.layers.Dense(64, activation='relu'),\n",
    "    tf.keras.layers.Dense(32, activation='relu'),\n",
    "    tf.keras.layers.Dense(16, activation='relu'),\n",
    "    tf.keras.layers.Dense(3, activation='softmax')\n",
    "  ])\n",
    "\n",
    "# compiling neural network\n",
    "model.compile(optimizer='adam',\n",
    "              loss='categorical_crossentropy',\n",
    "              metrics=['accuracy'])\n",
    "\n",
    "# number of epochs\n",
    "epochs = 100\n",
    "\n",
    "# fitting the model on training set\n",
    "history = model.fit(X_train, y_train, validation_split = 0.1, epochs = epochs)"
   ]
  },
  {
   "cell_type": "markdown",
   "id": "204ca987",
   "metadata": {
    "id": "204ca987"
   },
   "source": [
    "## Performance Metrics"
   ]
  },
  {
   "cell_type": "code",
   "execution_count": null,
   "id": "2ab71f6f",
   "metadata": {
    "colab": {
     "base_uri": "https://localhost:8080/"
    },
    "id": "2ab71f6f",
    "outputId": "7b7b5fff-eb26-4ada-b407-4082226f0ecd"
   },
   "outputs": [
    {
     "name": "stdout",
     "output_type": "stream",
     "text": [
      "1/1 [==============================] - 0s 52ms/step - loss: 0.0112 - accuracy: 1.0000\n"
     ]
    }
   ],
   "source": [
    "# calculating test loss and accuracy\n",
    "test_loss, test_accuracy = model.evaluate(X_test, y_test, verbose=1)"
   ]
  },
  {
   "cell_type": "code",
   "execution_count": null,
   "id": "7204a502",
   "metadata": {
    "colab": {
     "base_uri": "https://localhost:8080/"
    },
    "id": "7204a502",
    "outputId": "3ee84a24-4d2d-49a6-b433-2a01c37eb7fe"
   },
   "outputs": [
    {
     "name": "stdout",
     "output_type": "stream",
     "text": [
      "Training Accuracy:  0.9834710955619812\n",
      "Validation Accuracy:  0.9285714030265808\n",
      "Testing Accuracy:  1.0\n"
     ]
    }
   ],
   "source": [
    "# printing results\n",
    "print(\"Training Accuracy: \", history.history[\"accuracy\"][-1])\n",
    "print(\"Validation Accuracy: \", history.history[\"val_accuracy\"][-1])\n",
    "print(\"Testing Accuracy: \", test_accuracy)"
   ]
  },
  {
   "cell_type": "code",
   "execution_count": 11,
   "id": "057f9908",
   "metadata": {
    "colab": {
     "base_uri": "https://localhost:8080/",
     "height": 444
    },
    "id": "057f9908",
    "outputId": "e0b15121-9ace-4e11-a3a7-6230241f5185"
   },
   "outputs": [
    {
     "data": {
      "image/png": "[encoded data removed]",
      "text/plain": [
       "<Figure size 1000x500 with 1 Axes>"
      ]
     },
     "metadata": {},
     "output_type": "display_data"
    }
   ],
   "source": [
    "# plotting training and validation accuracy\n",
    "train_acc = history.history[\"accuracy\"]\n",
    "val_acc = history.history[\"val_accuracy\"]\n",
    "\n",
    "plt.figure(figsize = (10, 5))\n",
    "plt.plot([i for i in range(epochs)], train_acc)\n",
    "plt.plot([i for i in range(epochs)], val_acc)\n",
    "plt.legend([\"Training \", \"Validation \"])\n",
    "plt.show()"
   ]
  },
  {
   "cell_type": "code",
   "execution_count": 12,
   "id": "4504d549",
   "metadata": {
    "colab": {
     "base_uri": "https://localhost:8080/",
     "height": 444
    },
    "id": "4504d549",
    "outputId": "2bcb16c9-5bf4-4192-a70a-c5cb25b1d184"
   },
   "outputs": [
    {
     "data": {
      "image/png": "[encoded data removed]",
      "text/plain": [
       "<Figure size 1000x500 with 1 Axes>"
      ]
     },
     "metadata": {},
     "output_type": "display_data"
    }
   ],
   "source": [
    "# plotting training and validation loss\n",
    "train_loss = history.history[\"loss\"]\n",
    "val_loss = history.history[\"val_loss\"]\n",
    "\n",
    "plt.figure(figsize = (10, 5))\n",
    "plt.plot([i for i in range(epochs)], train_loss)\n",
    "plt.plot([i for i in range(epochs)], val_loss)\n",
    "plt.legend([\"Training \", \"Validation \"])\n",
    "plt.show()"
   ]
  },
  {
   "cell_type": "markdown",
   "id": "51afbcfa",
   "metadata": {
    "id": "51afbcfa"
   },
   "source": [
    "## Prediction"
   ]
  },
  {
   "cell_type": "code",
   "execution_count": null,
   "id": "b2a5b1cb",
   "metadata": {
    "colab": {
     "base_uri": "https://localhost:8080/"
    },
    "id": "b2a5b1cb",
    "outputId": "e2b287bf-09e0-465a-c196-0f20b9861e27"
   },
   "outputs": [
    {
     "name": "stdout",
     "output_type": "stream",
     "text": [
      "1/1 [==============================] - 0s 147ms/step\n"
     ]
    }
   ],
   "source": [
    "# testing model on the test set\n",
    "y_pred = model.predict(X_test)"
   ]
  },
  {
   "cell_type": "code",
   "execution_count": 10,
   "id": "020724fe",
   "metadata": {
    "colab": {
     "base_uri": "https://localhost:8080/"
    },
    "id": "020724fe",
    "outputId": "41ca31d8-7d77-42d7-ab11-fdea45c1c5c6"
   },
   "outputs": [
    {
     "name": "stdout",
     "output_type": "stream",
     "text": [
      "Ground Truth:  [2 1 0 2 0 2 0 1 1 1 2 1 1 1 1]\n",
      "Predicted:  [2 1 0 2 0 2 0 1 1 1 2 1 1 1 1]\n"
     ]
    }
   ],
   "source": [
    "# comparing true and predicted values\n",
    "true = np.argmax(y_test,axis=1)\n",
    "predicted = np.argmax(y_pred,axis=1)\n",
    "\n",
    "print(\"Ground Truth: \", true)\n",
    "print(\"Predicted: \", predicted)"
   ]
  },
  {
   "cell_type": "code",
   "execution_count": null,
   "id": "jwCbPRTD0SoP",
   "metadata": {
    "id": "jwCbPRTD0SoP"
   },
   "outputs": [],
   "source": []
  }
 ],
 "metadata": {
  "colab": {
   "provenance": []
  },
  "kernelspec": {
   "display_name": "Python 3 (ipykernel)",
   "language": "python",
   "name": "python3"
  },
  "language_info": {
   "codemirror_mode": {
    "name": "ipython",
    "version": 3
   },
   "file_extension": ".py",
   "mimetype": "text/x-python",
   "name": "python",
   "nbconvert_exporter": "python",
   "pygments_lexer": "ipython3",
   "version": "3.10.8"
  }
 },
 "nbformat": 4,
 "nbformat_minor": 5
}
