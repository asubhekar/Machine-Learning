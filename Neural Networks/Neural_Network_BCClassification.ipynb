{
 "cells": [
  {
   "cell_type": "markdown",
   "id": "88eee9ee",
   "metadata": {},
   "source": [
    "# Assignment 7: ANN Methodology\n",
    "   ## Name: Atharv Subhekar\n",
    "   ### CWID: 20015840 "
   ]
  },
  {
   "cell_type": "code",
   "execution_count": 92,
   "id": "3fb50580",
   "metadata": {},
   "outputs": [],
   "source": [
    "#import preprocessing libraries\n",
    "import pandas as pd \n",
    "import numpy as np\n",
    "from sklearn.preprocessing import StandardScaler\n",
    "\n",
    "#algorithm libraries\n",
    "import keras\n",
    "from sklearn.model_selection import train_test_split\n",
    "from sklearn.ensemble import RandomForestClassifier\n",
    "from keras.models import Sequential\n",
    "from keras.layers import Dense\n",
    "\n",
    "#Metrics libraries\n",
    "from sklearn.metrics import accuracy_score\n",
    "from sklearn.metrics import confusion_matrix\n",
    "\n",
    "# Data visualization libraries\n",
    "import matplotlib.pyplot as plt"
   ]
  },
  {
   "cell_type": "markdown",
   "id": "344c54a3",
   "metadata": {},
   "source": [
    "### Data Processing"
   ]
  },
  {
   "cell_type": "code",
   "execution_count": 93,
   "id": "f859be5c",
   "metadata": {},
   "outputs": [
    {
     "data": {
      "text/plain": [
       "(569, 32)"
      ]
     },
     "execution_count": 93,
     "metadata": {},
     "output_type": "execute_result"
    }
   ],
   "source": [
    "# loading the dataset in pandas\n",
    "df = pd.read_csv(\"wisc_bc_ContinuousVar.csv\")\n",
    "df.shape"
   ]
  },
  {
   "cell_type": "code",
   "execution_count": 94,
   "id": "0ee8570c",
   "metadata": {},
   "outputs": [
    {
     "data": {
      "text/plain": [
       "id                         0\n",
       "diagnosis                  0\n",
       "radius_mean                0\n",
       "texture_mean               0\n",
       "perimeter_mean             0\n",
       "area_mean                  0\n",
       "smoothness_mean            0\n",
       "compactness_mean           0\n",
       "concavity_mean             0\n",
       "concave points_mean        0\n",
       "symmetry_mean              0\n",
       "fractal_dimension_mean     0\n",
       "radius_se                  0\n",
       "texture_se                 0\n",
       "perimeter_se               0\n",
       "area_se                    0\n",
       "smoothness_se              0\n",
       "compactness_se             0\n",
       "concavity_se               0\n",
       "concave points_se          0\n",
       "symmetry_se                0\n",
       "fractal_dimension_se       0\n",
       "radius_worst               0\n",
       "texture_worst              0\n",
       "perimeter_worst            0\n",
       "area_worst                 0\n",
       "smoothness_worst           0\n",
       "compactness_worst          0\n",
       "concavity_worst            0\n",
       "concave points_worst       0\n",
       "symmetry_worst             0\n",
       "fractal_dimension_worst    0\n",
       "dtype: int64"
      ]
     },
     "execution_count": 94,
     "metadata": {},
     "output_type": "execute_result"
    }
   ],
   "source": [
    "#Checking for missing values in the dataset\n",
    "df.isnull().sum()"
   ]
  },
  {
   "cell_type": "code",
   "execution_count": 95,
   "id": "d26b656f",
   "metadata": {},
   "outputs": [
    {
     "data": {
      "text/plain": [
       "0      1\n",
       "1      1\n",
       "2      1\n",
       "3      1\n",
       "4      1\n",
       "      ..\n",
       "564    1\n",
       "565    1\n",
       "566    1\n",
       "567    1\n",
       "568    0\n",
       "Name: diagnosis, Length: 569, dtype: int64"
      ]
     },
     "execution_count": 95,
     "metadata": {},
     "output_type": "execute_result"
    }
   ],
   "source": [
    "# storing the target labels\n",
    "target = df['diagnosis']\n",
    "target.replace('M', 1, inplace = True)\n",
    "target.replace('B', 0, inplace = True)\n",
    "target"
   ]
  },
  {
   "cell_type": "code",
   "execution_count": 96,
   "id": "efe1901d",
   "metadata": {},
   "outputs": [
    {
     "data": {
      "text/plain": [
       "(569, 30)"
      ]
     },
     "execution_count": 96,
     "metadata": {},
     "output_type": "execute_result"
    }
   ],
   "source": [
    "#Dropping the unnecessary columns \n",
    "df = df.drop(columns = ['id','diagnosis'])\n",
    "df.shape"
   ]
  },
  {
   "cell_type": "code",
   "execution_count": 97,
   "id": "377b690b",
   "metadata": {},
   "outputs": [],
   "source": [
    "#Splitting the data into training set and testing set\n",
    "X_train, X_test, y_train, y_test = train_test_split(df, target, test_size = 0.3)"
   ]
  },
  {
   "cell_type": "markdown",
   "id": "c268b785",
   "metadata": {},
   "source": [
    "### Feature Scaling"
   ]
  },
  {
   "cell_type": "code",
   "execution_count": 98,
   "id": "51397794",
   "metadata": {},
   "outputs": [],
   "source": [
    "# Feature Scaling\n",
    "sc = StandardScaler()\n",
    "X_train = sc.fit_transform(X_train)\n",
    "X_test = sc.transform(X_test)"
   ]
  },
  {
   "cell_type": "markdown",
   "id": "d3b203b8",
   "metadata": {},
   "source": [
    "### Artificial Neural Network Model"
   ]
  },
  {
   "cell_type": "code",
   "execution_count": 99,
   "id": "76e2f337",
   "metadata": {},
   "outputs": [],
   "source": [
    "# Define the model\n",
    "model = Sequential()\n",
    "model.add(Dense(units=30, activation='relu', input_dim=30))\n",
    "model.add(Dense(units=5, activation = 'relu'))\n",
    "model.add(Dense(units=1, activation='sigmoid'))"
   ]
  },
  {
   "cell_type": "code",
   "execution_count": 100,
   "id": "468ea503",
   "metadata": {},
   "outputs": [
    {
     "name": "stdout",
     "output_type": "stream",
     "text": [
      "Model: \"sequential_6\"\n",
      "_________________________________________________________________\n",
      " Layer (type)                Output Shape              Param #   \n",
      "=================================================================\n",
      " dense_12 (Dense)            (None, 30)                930       \n",
      "                                                                 \n",
      " dense_13 (Dense)            (None, 5)                 155       \n",
      "                                                                 \n",
      " dense_14 (Dense)            (None, 1)                 6         \n",
      "                                                                 \n",
      "=================================================================\n",
      "Total params: 1,091\n",
      "Trainable params: 1,091\n",
      "Non-trainable params: 0\n",
      "_________________________________________________________________\n"
     ]
    }
   ],
   "source": [
    "model.summary()"
   ]
  },
  {
   "cell_type": "code",
   "execution_count": 101,
   "id": "8e16677b",
   "metadata": {},
   "outputs": [],
   "source": [
    "# Compile the model\n",
    "model.compile(optimizer='adam', loss='binary_crossentropy', metrics=['accuracy'])"
   ]
  },
  {
   "cell_type": "code",
   "execution_count": 102,
   "id": "0aa7ea85",
   "metadata": {},
   "outputs": [
    {
     "name": "stdout",
     "output_type": "stream",
     "text": [
      "Epoch 1/100\n",
      " 7/40 [====>.........................] - ETA: 0s - loss: 0.5850 - accuracy: 0.6714 "
     ]
    },
    {
     "name": "stderr",
     "output_type": "stream",
     "text": [
      "2023-04-16 22:08:26.645977: I tensorflow/core/grappler/optimizers/custom_graph_optimizer_registry.cc:113] Plugin optimizer for device_type GPU is enabled.\n"
     ]
    },
    {
     "name": "stdout",
     "output_type": "stream",
     "text": [
      "40/40 [==============================] - 1s 8ms/step - loss: 0.4422 - accuracy: 0.8392\n",
      "Epoch 2/100\n",
      "40/40 [==============================] - 0s 6ms/step - loss: 0.2297 - accuracy: 0.9372\n",
      "Epoch 3/100\n",
      "40/40 [==============================] - 0s 6ms/step - loss: 0.1576 - accuracy: 0.9573\n",
      "Epoch 4/100\n",
      "40/40 [==============================] - 0s 6ms/step - loss: 0.1191 - accuracy: 0.9648\n",
      "Epoch 5/100\n",
      "40/40 [==============================] - 0s 6ms/step - loss: 0.0960 - accuracy: 0.9698\n",
      "Epoch 6/100\n",
      "40/40 [==============================] - 0s 6ms/step - loss: 0.0815 - accuracy: 0.9774\n",
      "Epoch 7/100\n",
      "40/40 [==============================] - 0s 6ms/step - loss: 0.0727 - accuracy: 0.9774\n",
      "Epoch 8/100\n",
      "40/40 [==============================] - 0s 6ms/step - loss: 0.0646 - accuracy: 0.9824\n",
      "Epoch 9/100\n",
      "40/40 [==============================] - 0s 6ms/step - loss: 0.0582 - accuracy: 0.9874\n",
      "Epoch 10/100\n",
      "40/40 [==============================] - 0s 6ms/step - loss: 0.0528 - accuracy: 0.9874\n",
      "Epoch 11/100\n",
      "40/40 [==============================] - 0s 6ms/step - loss: 0.0490 - accuracy: 0.9874\n",
      "Epoch 12/100\n",
      "40/40 [==============================] - 0s 6ms/step - loss: 0.0453 - accuracy: 0.9874\n",
      "Epoch 13/100\n",
      "40/40 [==============================] - 0s 6ms/step - loss: 0.0434 - accuracy: 0.9874\n",
      "Epoch 14/100\n",
      "40/40 [==============================] - 0s 6ms/step - loss: 0.0394 - accuracy: 0.9899\n",
      "Epoch 15/100\n",
      "40/40 [==============================] - 0s 6ms/step - loss: 0.0361 - accuracy: 0.9925\n",
      "Epoch 16/100\n",
      "40/40 [==============================] - 0s 6ms/step - loss: 0.0338 - accuracy: 0.9925\n",
      "Epoch 17/100\n",
      "40/40 [==============================] - 0s 6ms/step - loss: 0.0314 - accuracy: 0.9950\n",
      "Epoch 18/100\n",
      "40/40 [==============================] - 0s 7ms/step - loss: 0.0297 - accuracy: 0.9950\n",
      "Epoch 19/100\n",
      "40/40 [==============================] - 0s 7ms/step - loss: 0.0275 - accuracy: 0.9950\n",
      "Epoch 20/100\n",
      "40/40 [==============================] - 0s 7ms/step - loss: 0.0256 - accuracy: 0.9975\n",
      "Epoch 21/100\n",
      "40/40 [==============================] - 0s 7ms/step - loss: 0.0241 - accuracy: 0.9975\n",
      "Epoch 22/100\n",
      "40/40 [==============================] - 0s 6ms/step - loss: 0.0225 - accuracy: 0.9975\n",
      "Epoch 23/100\n",
      "40/40 [==============================] - 0s 6ms/step - loss: 0.0211 - accuracy: 0.9975\n",
      "Epoch 24/100\n",
      "40/40 [==============================] - 0s 6ms/step - loss: 0.0201 - accuracy: 0.9975\n",
      "Epoch 25/100\n",
      "40/40 [==============================] - 0s 6ms/step - loss: 0.0187 - accuracy: 0.9975\n",
      "Epoch 26/100\n",
      "40/40 [==============================] - 0s 6ms/step - loss: 0.0174 - accuracy: 0.9975\n",
      "Epoch 27/100\n",
      "40/40 [==============================] - 0s 6ms/step - loss: 0.0164 - accuracy: 0.9975\n",
      "Epoch 28/100\n",
      "40/40 [==============================] - 0s 6ms/step - loss: 0.0154 - accuracy: 0.9975\n",
      "Epoch 29/100\n",
      "40/40 [==============================] - 0s 6ms/step - loss: 0.0145 - accuracy: 0.9975\n",
      "Epoch 30/100\n",
      "40/40 [==============================] - 0s 6ms/step - loss: 0.0139 - accuracy: 0.9975\n",
      "Epoch 31/100\n",
      "40/40 [==============================] - 0s 6ms/step - loss: 0.0129 - accuracy: 0.9975\n",
      "Epoch 32/100\n",
      "40/40 [==============================] - 0s 6ms/step - loss: 0.0120 - accuracy: 0.9975\n",
      "Epoch 33/100\n",
      "40/40 [==============================] - 0s 6ms/step - loss: 0.0111 - accuracy: 0.9975\n",
      "Epoch 34/100\n",
      "40/40 [==============================] - 0s 6ms/step - loss: 0.0105 - accuracy: 0.9975\n",
      "Epoch 35/100\n",
      "40/40 [==============================] - 0s 6ms/step - loss: 0.0096 - accuracy: 0.9975\n",
      "Epoch 36/100\n",
      "40/40 [==============================] - 0s 6ms/step - loss: 0.0082 - accuracy: 0.9975\n",
      "Epoch 37/100\n",
      "40/40 [==============================] - 0s 6ms/step - loss: 0.0075 - accuracy: 1.0000\n",
      "Epoch 38/100\n",
      "40/40 [==============================] - 0s 6ms/step - loss: 0.0070 - accuracy: 1.0000\n",
      "Epoch 39/100\n",
      "40/40 [==============================] - 0s 6ms/step - loss: 0.0065 - accuracy: 1.0000\n",
      "Epoch 40/100\n",
      "40/40 [==============================] - 0s 6ms/step - loss: 0.0060 - accuracy: 1.0000\n",
      "Epoch 41/100\n",
      "40/40 [==============================] - 0s 6ms/step - loss: 0.0057 - accuracy: 1.0000\n",
      "Epoch 42/100\n",
      "40/40 [==============================] - 0s 6ms/step - loss: 0.0051 - accuracy: 1.0000\n",
      "Epoch 43/100\n",
      "40/40 [==============================] - 0s 6ms/step - loss: 0.0048 - accuracy: 1.0000\n",
      "Epoch 44/100\n",
      "40/40 [==============================] - 0s 6ms/step - loss: 0.0047 - accuracy: 1.0000\n",
      "Epoch 45/100\n",
      "40/40 [==============================] - 0s 6ms/step - loss: 0.0042 - accuracy: 1.0000\n",
      "Epoch 46/100\n",
      "40/40 [==============================] - 0s 6ms/step - loss: 0.0040 - accuracy: 1.0000\n",
      "Epoch 47/100\n",
      "40/40 [==============================] - 0s 6ms/step - loss: 0.0038 - accuracy: 1.0000\n",
      "Epoch 48/100\n",
      "40/40 [==============================] - 0s 6ms/step - loss: 0.0036 - accuracy: 1.0000\n",
      "Epoch 49/100\n",
      "40/40 [==============================] - 0s 6ms/step - loss: 0.0034 - accuracy: 1.0000\n",
      "Epoch 50/100\n",
      "40/40 [==============================] - 0s 6ms/step - loss: 0.0032 - accuracy: 1.0000\n",
      "Epoch 51/100\n",
      "40/40 [==============================] - 0s 6ms/step - loss: 0.0030 - accuracy: 1.0000\n",
      "Epoch 52/100\n",
      "40/40 [==============================] - 0s 6ms/step - loss: 0.0028 - accuracy: 1.0000\n",
      "Epoch 53/100\n",
      "40/40 [==============================] - 0s 6ms/step - loss: 0.0026 - accuracy: 1.0000\n",
      "Epoch 54/100\n",
      "40/40 [==============================] - 0s 6ms/step - loss: 0.0025 - accuracy: 1.0000\n",
      "Epoch 55/100\n",
      "40/40 [==============================] - 0s 6ms/step - loss: 0.0024 - accuracy: 1.0000\n",
      "Epoch 56/100\n",
      "40/40 [==============================] - 0s 6ms/step - loss: 0.0022 - accuracy: 1.0000\n",
      "Epoch 57/100\n",
      "40/40 [==============================] - 0s 6ms/step - loss: 0.0022 - accuracy: 1.0000\n",
      "Epoch 58/100\n",
      "40/40 [==============================] - 0s 6ms/step - loss: 0.0020 - accuracy: 1.0000\n",
      "Epoch 59/100\n",
      "40/40 [==============================] - 0s 6ms/step - loss: 0.0019 - accuracy: 1.0000\n",
      "Epoch 60/100\n",
      "40/40 [==============================] - 0s 6ms/step - loss: 0.0018 - accuracy: 1.0000\n",
      "Epoch 61/100\n",
      "40/40 [==============================] - 0s 6ms/step - loss: 0.0017 - accuracy: 1.0000\n",
      "Epoch 62/100\n",
      "40/40 [==============================] - 0s 6ms/step - loss: 0.0016 - accuracy: 1.0000\n",
      "Epoch 63/100\n",
      "40/40 [==============================] - 0s 6ms/step - loss: 0.0016 - accuracy: 1.0000\n",
      "Epoch 64/100\n",
      "40/40 [==============================] - 0s 6ms/step - loss: 0.0015 - accuracy: 1.0000\n",
      "Epoch 65/100\n",
      "40/40 [==============================] - 0s 6ms/step - loss: 0.0014 - accuracy: 1.0000\n",
      "Epoch 66/100\n",
      "40/40 [==============================] - 0s 6ms/step - loss: 0.0013 - accuracy: 1.0000\n",
      "Epoch 67/100\n",
      "40/40 [==============================] - 0s 6ms/step - loss: 0.0013 - accuracy: 1.0000\n",
      "Epoch 68/100\n",
      "40/40 [==============================] - 0s 6ms/step - loss: 0.0012 - accuracy: 1.0000\n",
      "Epoch 69/100\n",
      "40/40 [==============================] - 0s 6ms/step - loss: 0.0012 - accuracy: 1.0000\n",
      "Epoch 70/100\n",
      "40/40 [==============================] - 0s 6ms/step - loss: 0.0011 - accuracy: 1.0000\n",
      "Epoch 71/100\n",
      "40/40 [==============================] - 0s 6ms/step - loss: 0.0011 - accuracy: 1.0000\n",
      "Epoch 72/100\n",
      "40/40 [==============================] - 0s 6ms/step - loss: 0.0010 - accuracy: 1.0000\n",
      "Epoch 73/100\n",
      "40/40 [==============================] - 0s 6ms/step - loss: 9.8937e-04 - accuracy: 1.0000\n",
      "Epoch 74/100\n",
      "40/40 [==============================] - 0s 6ms/step - loss: 9.4803e-04 - accuracy: 1.0000\n",
      "Epoch 75/100\n",
      "40/40 [==============================] - 0s 6ms/step - loss: 9.4923e-04 - accuracy: 1.0000\n",
      "Epoch 76/100\n",
      "40/40 [==============================] - 0s 6ms/step - loss: 8.7191e-04 - accuracy: 1.0000\n",
      "Epoch 77/100\n",
      "40/40 [==============================] - 0s 6ms/step - loss: 8.3521e-04 - accuracy: 1.0000\n",
      "Epoch 78/100\n",
      "40/40 [==============================] - 0s 6ms/step - loss: 8.2212e-04 - accuracy: 1.0000\n",
      "Epoch 79/100\n",
      "40/40 [==============================] - 0s 6ms/step - loss: 7.7198e-04 - accuracy: 1.0000\n",
      "Epoch 80/100\n",
      "40/40 [==============================] - 0s 6ms/step - loss: 7.4471e-04 - accuracy: 1.0000\n",
      "Epoch 81/100\n",
      "40/40 [==============================] - 0s 6ms/step - loss: 7.3625e-04 - accuracy: 1.0000\n",
      "Epoch 82/100\n"
     ]
    },
    {
     "name": "stdout",
     "output_type": "stream",
     "text": [
      "40/40 [==============================] - 0s 6ms/step - loss: 6.8112e-04 - accuracy: 1.0000\n",
      "Epoch 83/100\n",
      "40/40 [==============================] - 0s 6ms/step - loss: 6.6393e-04 - accuracy: 1.0000\n",
      "Epoch 84/100\n",
      "40/40 [==============================] - 0s 6ms/step - loss: 6.3816e-04 - accuracy: 1.0000\n",
      "Epoch 85/100\n",
      "40/40 [==============================] - 0s 6ms/step - loss: 6.1826e-04 - accuracy: 1.0000\n",
      "Epoch 86/100\n",
      "40/40 [==============================] - 0s 6ms/step - loss: 6.0075e-04 - accuracy: 1.0000\n",
      "Epoch 87/100\n",
      "40/40 [==============================] - 0s 6ms/step - loss: 5.6311e-04 - accuracy: 1.0000\n",
      "Epoch 88/100\n",
      "40/40 [==============================] - 0s 6ms/step - loss: 5.4696e-04 - accuracy: 1.0000\n",
      "Epoch 89/100\n",
      "40/40 [==============================] - 0s 6ms/step - loss: 5.3777e-04 - accuracy: 1.0000\n",
      "Epoch 90/100\n",
      "40/40 [==============================] - 0s 6ms/step - loss: 5.1694e-04 - accuracy: 1.0000\n",
      "Epoch 91/100\n",
      "40/40 [==============================] - 0s 6ms/step - loss: 4.9913e-04 - accuracy: 1.0000\n",
      "Epoch 92/100\n",
      "40/40 [==============================] - 0s 6ms/step - loss: 4.5741e-04 - accuracy: 1.0000\n",
      "Epoch 93/100\n",
      "40/40 [==============================] - 0s 6ms/step - loss: 4.7350e-04 - accuracy: 1.0000\n",
      "Epoch 94/100\n",
      "40/40 [==============================] - 0s 6ms/step - loss: 4.3720e-04 - accuracy: 1.0000\n",
      "Epoch 95/100\n",
      "40/40 [==============================] - 0s 6ms/step - loss: 4.1769e-04 - accuracy: 1.0000\n",
      "Epoch 96/100\n",
      "40/40 [==============================] - 0s 6ms/step - loss: 4.1963e-04 - accuracy: 1.0000\n",
      "Epoch 97/100\n",
      "40/40 [==============================] - 0s 6ms/step - loss: 3.9638e-04 - accuracy: 1.0000\n",
      "Epoch 98/100\n",
      "40/40 [==============================] - 0s 6ms/step - loss: 3.8931e-04 - accuracy: 1.0000\n",
      "Epoch 99/100\n",
      "40/40 [==============================] - 0s 6ms/step - loss: 3.7571e-04 - accuracy: 1.0000\n",
      "Epoch 100/100\n",
      "40/40 [==============================] - 0s 6ms/step - loss: 3.6353e-04 - accuracy: 1.0000\n"
     ]
    }
   ],
   "source": [
    "# Train the model\n",
    "ann_model = model.fit(X_train, y_train, batch_size=10, epochs=100)"
   ]
  },
  {
   "cell_type": "markdown",
   "id": "ac26c8e6",
   "metadata": {},
   "source": [
    "### Evaluating Decision Tree Classifier."
   ]
  },
  {
   "cell_type": "code",
   "execution_count": 107,
   "id": "44e6849a",
   "metadata": {},
   "outputs": [
    {
     "data": {
      "image/png": "[encoded data removed]",
      "text/plain": [
       "<Figure size 640x480 with 1 Axes>"
      ]
     },
     "metadata": {},
     "output_type": "display_data"
    }
   ],
   "source": [
    "# Plot the loss curve (RMSProp)\n",
    "tr_loss = ann_model.history['loss']\n",
    "epochs = [i for i in range(len(tr_loss))]\n",
    "plt.plot(epochs, tr_loss)\n",
    "plt.show()"
   ]
  },
  {
   "cell_type": "code",
   "execution_count": 109,
   "id": "93b0348b",
   "metadata": {},
   "outputs": [
    {
     "data": {
      "image/png": "[encoded data removed]",
      "text/plain": [
       "<Figure size 640x480 with 1 Axes>"
      ]
     },
     "metadata": {},
     "output_type": "display_data"
    }
   ],
   "source": [
    "# Plot the loss curve (RMSProp)\n",
    "tr_accuracy = ann_model.history['accuracy']\n",
    "epochs = [i for i in range(len(tr_accuracy))]\n",
    "plt.plot(epochs, tr_accuracy)\n",
    "plt.show()"
   ]
  },
  {
   "cell_type": "code",
   "execution_count": 113,
   "id": "b5573944",
   "metadata": {},
   "outputs": [
    {
     "name": "stdout",
     "output_type": "stream",
     "text": [
      "6/6 [==============================] - 0s 7ms/step - loss: 0.1413 - accuracy: 0.9708\n",
      "Loss =  14.126567542552948\n",
      "Accuracy = 97.07602262496948\n"
     ]
    }
   ],
   "source": [
    "# Evaluate the model on the testing set\n",
    "loss, accuracy = model.evaluate(X_test, y_test)\n",
    "print('Loss = ', loss*100)\n",
    "print('Accuracy =', accuracy*100)"
   ]
  },
  {
   "cell_type": "code",
   "execution_count": 110,
   "id": "98888bcd",
   "metadata": {},
   "outputs": [
    {
     "name": "stdout",
     "output_type": "stream",
     "text": [
      "6/6 [==============================] - 0s 4ms/step\n"
     ]
    },
    {
     "name": "stderr",
     "output_type": "stream",
     "text": [
      "2023-04-16 22:12:24.373420: I tensorflow/core/grappler/optimizers/custom_graph_optimizer_registry.cc:113] Plugin optimizer for device_type GPU is enabled.\n"
     ]
    }
   ],
   "source": [
    "# Predicting the labels\n",
    "y_pred = model.predict(X_test).astype('int32')"
   ]
  },
  {
   "cell_type": "code",
   "execution_count": 111,
   "id": "70567290",
   "metadata": {},
   "outputs": [
    {
     "data": {
      "text/plain": [
       "array([[115,  14],\n",
       "       [  0,  42]])"
      ]
     },
     "execution_count": 111,
     "metadata": {},
     "output_type": "execute_result"
    }
   ],
   "source": [
    "confusion_matrix(y_pred, y_test)"
   ]
  }
 ],
 "metadata": {
  "kernelspec": {
   "display_name": "Python 3 (ipykernel)",
   "language": "python",
   "name": "python3"
  },
  "language_info": {
   "codemirror_mode": {
    "name": "ipython",
    "version": 3
   },
   "file_extension": ".py",
   "mimetype": "text/x-python",
   "name": "python",
   "nbconvert_exporter": "python",
   "pygments_lexer": "ipython3",
   "version": "3.10.6"
  }
 },
 "nbformat": 4,
 "nbformat_minor": 5
}
