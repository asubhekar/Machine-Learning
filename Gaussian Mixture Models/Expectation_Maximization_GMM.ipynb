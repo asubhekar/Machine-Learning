{
 "cells": [
  {
   "cell_type": "markdown",
   "id": "dbeb5219",
   "metadata": {},
   "source": [
    "# Gaussian Mixture Models\n",
    "\n",
    "#### Author: Atharv Subhekar\n",
    "#### CWID: 20015840"
   ]
  },
  {
   "cell_type": "markdown",
   "id": "3c0e1ef5",
   "metadata": {},
   "source": [
    "**Notation**:\n",
    "\n",
    "- n    : number of training points\n",
    "- f    : number of features\n",
    "- k    : number of gaussians\n",
    "- X    : n x f matrix of training data\n",
    "- r    : n x k matrix of membership weights\n",
    "- pie  : k x 1 matrix of mixture weights (gaussian prior probabilities)\n",
    "- mu   : k x f matrix containing the means of each gaussian\n",
    "- sigma: f x f x k tensor of covariance matrices"
   ]
  },
  {
   "cell_type": "markdown",
   "id": "51d6d7c9",
   "metadata": {},
   "source": [
    "## Importing Libraries"
   ]
  },
  {
   "cell_type": "code",
   "execution_count": 35,
   "id": "5c6176d4",
   "metadata": {},
   "outputs": [],
   "source": [
    "import numpy as np\n",
    "from scipy.stats import multivariate_normal"
   ]
  },
  {
   "cell_type": "markdown",
   "id": "d0bb534a",
   "metadata": {},
   "source": [
    "## Data Preprocessing"
   ]
  },
  {
   "cell_type": "code",
   "execution_count": 36,
   "id": "4321e7b1",
   "metadata": {},
   "outputs": [
    {
     "name": "stdout",
     "output_type": "stream",
     "text": [
      "n x f matrix of training data : (1000, 2)\n"
     ]
    }
   ],
   "source": [
    "# training data\n",
    "X = np.genfromtxt('points.dat.txt', delimiter = ' ')\n",
    "print(\"n x f matrix of training data :\",X.shape)"
   ]
  },
  {
   "cell_type": "markdown",
   "id": "f8005abf",
   "metadata": {},
   "source": [
    "## Question 1\n",
    "\n",
    "Expectation: Complete the function [𝑟] = 𝐸𝑥𝑝𝑒𝑐𝑡𝑎𝑡𝑖𝑜𝑛(𝑋, 𝑘, 𝜋, 𝜇, Σ). This function takes in a set\n",
    "of parameters of a gaussian mixture model, and outputs the membership weights of each data point"
   ]
  },
  {
   "cell_type": "code",
   "execution_count": 37,
   "id": "25faabe2",
   "metadata": {},
   "outputs": [],
   "source": [
    "def Expectation(X, k, pie, mu, sigma):\n",
    "    # initializing the weights\n",
    "    r = np.zeros((X.shape[0], k))\n",
    "    # Calculating weights\n",
    "    for i in range(k):\n",
    "        probability= multivariate_normal.pdf(X, mean = mu[i, :])\n",
    "        r[:, i] = pie[i] * probability\n",
    "        r = r / np.sum(r, axis = 1, keepdims = True)\n",
    "        \n",
    "    return r"
   ]
  },
  {
   "cell_type": "markdown",
   "id": "2e121484",
   "metadata": {},
   "source": [
    "## Question 2\n",
    "\n",
    "Maximization of Means: Complete the function [𝜇] = 𝑀𝑎𝑥𝑖𝑚𝑖𝑧𝑒𝑀𝑒𝑎𝑛(𝑋, 𝑘, 𝑟). This function\n",
    "takes in the training data along with the membership weights, and calculates the new maximum\n",
    "likelihood mean for each gaussian"
   ]
  },
  {
   "cell_type": "code",
   "execution_count": 43,
   "id": "bdf1c0a8",
   "metadata": {},
   "outputs": [],
   "source": [
    "def MaximizeMean(X, k, r):\n",
    "    # Storing the mean and finding the maximum value of mean\n",
    "    mu = []\n",
    "    for i in range(k):\n",
    "        product = np.dot(r[:, i], X)\n",
    "        product = product / np.sum(r[:, i])\n",
    "        mu.append(product)\n",
    "\n",
    "    mu = np.array(mu)\n",
    "    return mu"
   ]
  },
  {
   "cell_type": "markdown",
   "id": "05638e15",
   "metadata": {},
   "source": [
    "## Question 3\n",
    "\n",
    "Maximization of Covariances: Complete the function [Σ] = 𝑀𝑎𝑥𝑖𝑚𝑖𝑧𝑒𝐶𝑜𝑣𝑎𝑟𝑖𝑎𝑛𝑐𝑒(𝑋, 𝑘, 𝑟, 𝜇).\n",
    "This function takes in the training data along with membership weights and means for each gaussian,\n",
    "and calculates the new maximum likelihood covariance for each gaussian"
   ]
  },
  {
   "cell_type": "code",
   "execution_count": 44,
   "id": "ad7750d5",
   "metadata": {},
   "outputs": [],
   "source": [
    "def MaximizeCovariance(X, k, r, mu):\n",
    "    # initializing covariances\n",
    "    sigma = np.random.rand(2, 2, 3)\n",
    "    # maximizing covariances\n",
    "    for i in range(k):\n",
    "        prod = np.dot(X - mu[i], (X - mu[i]).T)\n",
    "        mul = np.sum(r[:, i] * prod)\n",
    "        sigma[:, :, i] = mul / np.sum(r[:, i])\n",
    "    return sigma"
   ]
  },
  {
   "cell_type": "markdown",
   "id": "912f708b",
   "metadata": {},
   "source": [
    "## Question 4\n",
    "\n",
    "Maximization of Mixture Weights: Complete the function [𝜋] = 𝑀𝑎𝑥𝑖𝑚𝑖𝑧𝑒𝑀𝑖𝑥𝑡𝑢𝑟𝑒𝑠(𝑘, 𝑟).\n",
    "This function takes in the membership weights, and calculates the new maximum likelihood\n",
    "mixture weight for each gaussian"
   ]
  },
  {
   "cell_type": "code",
   "execution_count": 45,
   "id": "f075d79f",
   "metadata": {},
   "outputs": [],
   "source": [
    "def MaximizeMixtures(k, r):\n",
    "    # initializing mixtures\n",
    "    pi = []\n",
    "    # maximizing mixtures\n",
    "    for i in range(k):\n",
    "        pi.append(np.sum(r[:, i]) / r.shape[0])\n",
    "    # converting list to numpy array\n",
    "    pi = np.array(pi)\n",
    "    return pi"
   ]
  },
  {
   "cell_type": "markdown",
   "id": "f7432753",
   "metadata": {},
   "source": [
    "## Question 5\n",
    "\n",
    "EM: Put everything together and implement the function [𝜋, 𝜇, Σ] = 𝐸𝑀(𝑋, 𝑘, 𝜋% , 𝜇% , Σ% , 𝑛𝐼𝑡𝑒𝑟).\n",
    "This function runs the EM algorithm for 𝑛𝐼𝑡𝑒𝑟 steps/iterations and returns the parameters of the\n",
    "underlying GMM."
   ]
  },
  {
   "cell_type": "code",
   "execution_count": 48,
   "id": "b8a36e29",
   "metadata": {},
   "outputs": [],
   "source": [
    "def EM(X, k, pi, mu, sigma, Iters):\n",
    "    # iterating for nIter times\n",
    "    while Iters > 0:\n",
    "        #obtaining the membership weights\n",
    "        r = Expectation(X, k, pi, mu, sigma)\n",
    "        # obtaining maximized means\n",
    "        mu = MaximizeMean(X, k, r)\n",
    "        # obtaining maximized covariances\n",
    "        sigma = MaximizeCovariance(X, k, r, mu)\n",
    "        # obtaining maximized mixtures\n",
    "        pi = MaximizeMixtures(k, r)\n",
    "        Iters -= 1\n",
    "    return pi, mu, sigma"
   ]
  },
  {
   "cell_type": "markdown",
   "id": "d823e3ac",
   "metadata": {},
   "source": [
    "## Main Block"
   ]
  },
  {
   "cell_type": "code",
   "execution_count": 49,
   "id": "3b31546f",
   "metadata": {},
   "outputs": [
    {
     "name": "stdout",
     "output_type": "stream",
     "text": [
      "Shape of Mixture Weights: (3,)\n",
      "\n",
      " [0.98584217 0.00400316 0.01015467]\n",
      "\n",
      " Gaussian Mean\n",
      "Shape:  (3, 2)\n",
      "[[-0.83516457 -0.60126417]\n",
      " [ 0.40139547  0.72815004]\n",
      " [ 0.12850757  0.75262899]]\n",
      "\n",
      " Tensor of Covariances\n",
      "Shape:  (2, 2, 3)\n",
      "[[[-4.80449915e-14 -5.24125039e-13  4.14890253e-13]\n",
      "  [-4.80449915e-14 -5.24125039e-13  4.14890253e-13]]\n",
      "\n",
      " [[-4.80449915e-14 -5.24125039e-13  4.14890253e-13]\n",
      "  [-4.80449915e-14 -5.24125039e-13  4.14890253e-13]]]\n"
     ]
    }
   ],
   "source": [
    "# initializing parameters\n",
    "mu0 = np.random.rand(3, 2)\n",
    "pie0 = np.random.rand(3, 1)\n",
    "sigma0 = np.random.rand(2, 2, 3)\n",
    "k = 3\n",
    "# calling EM function\n",
    "pi, mu, sigma = EM(X, k, pie0, mu0, sigma0, 1)\n",
    "# printing results\n",
    "print(\"Shape of Mixture Weights:\", pi.shape)\n",
    "print(\"\\n\", pi)\n",
    "\n",
    "print(\"\\n Gaussian Mean\")\n",
    "print(\"Shape: \", mu.shape)\n",
    "print(mu)\n",
    "\n",
    "print(\"\\n Tensor of Covariances\")\n",
    "print(\"Shape: \", sigma.shape)\n",
    "print(sigma)"
   ]
  },
  {
   "cell_type": "code",
   "execution_count": null,
   "id": "0248c1ae",
   "metadata": {},
   "outputs": [],
   "source": []
  }
 ],
 "metadata": {
  "kernelspec": {
   "display_name": "Python 3 (ipykernel)",
   "language": "python",
   "name": "python3"
  },
  "language_info": {
   "codemirror_mode": {
    "name": "ipython",
    "version": 3
   },
   "file_extension": ".py",
   "mimetype": "text/x-python",
   "name": "python",
   "nbconvert_exporter": "python",
   "pygments_lexer": "ipython3",
   "version": "3.10.6"
  }
 },
 "nbformat": 4,
 "nbformat_minor": 5
}
